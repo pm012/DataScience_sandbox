{
 "cells": [
  {
   "cell_type": "markdown",
   "id": "caea7d43",
   "metadata": {},
   "source": [
    "# Lesson 7: Classification"
   ]
  },
  {
   "cell_type": "code",
   "execution_count": 3,
   "id": "44716761",
   "metadata": {},
   "outputs": [],
   "source": [
    "import os\n",
    "import math\n",
    "import numpy as np\n",
    "import pandas as pd\n",
    "import matplotlib.pyplot as plt\n",
    "import seaborn as sns\n",
    "\n",
    "from sklearn.linear_model import LogisticRegression, SGDClassifier\n",
    "from sklearn. naive_bayes import GaussianNB\n",
    "\n",
    "from sklearn.model_selection import train_test_split\n",
    "\n",
    "pd.options.mode.chained_assignment = None  # default='warn'\n"
   ]
  },
  {
   "cell_type": "markdown",
   "id": "9719bc02",
   "metadata": {},
   "source": [
    "We will use Kaggle Titanic data to demonstrate these major steps.\n",
    "\n",
    "* Data: https://www.kaggle.com/competitions/titanic/data\n",
    "* Examples used to compose this notebook: https://www.kaggle.com/code/startupsci/titanic-data-science-solutions, https://www.kaggle.com/code/abhishekmamidi/titanic-data-preprocessing-and-visualization/notebook"
   ]
  },
  {
   "cell_type": "code",
   "execution_count": 4,
   "id": "2e760c6c",
   "metadata": {},
   "outputs": [
    {
     "data": {
      "text/html": [
       "<div>\n",
       "<style scoped>\n",
       "    .dataframe tbody tr th:only-of-type {\n",
       "        vertical-align: middle;\n",
       "    }\n",
       "\n",
       "    .dataframe tbody tr th {\n",
       "        vertical-align: top;\n",
       "    }\n",
       "\n",
       "    .dataframe thead th {\n",
       "        text-align: right;\n",
       "    }\n",
       "</style>\n",
       "<table border=\"1\" class=\"dataframe\">\n",
       "  <thead>\n",
       "    <tr style=\"text-align: right;\">\n",
       "      <th></th>\n",
       "      <th>Survived</th>\n",
       "      <th>Pclass</th>\n",
       "      <th>Name</th>\n",
       "      <th>Sex</th>\n",
       "      <th>Age</th>\n",
       "      <th>SibSp</th>\n",
       "      <th>Parch</th>\n",
       "      <th>Ticket</th>\n",
       "      <th>Fare</th>\n",
       "      <th>Cabin</th>\n",
       "      <th>Embarked</th>\n",
       "    </tr>\n",
       "    <tr>\n",
       "      <th>PassengerId</th>\n",
       "      <th></th>\n",
       "      <th></th>\n",
       "      <th></th>\n",
       "      <th></th>\n",
       "      <th></th>\n",
       "      <th></th>\n",
       "      <th></th>\n",
       "      <th></th>\n",
       "      <th></th>\n",
       "      <th></th>\n",
       "      <th></th>\n",
       "    </tr>\n",
       "  </thead>\n",
       "  <tbody>\n",
       "    <tr>\n",
       "      <th>1</th>\n",
       "      <td>0</td>\n",
       "      <td>3</td>\n",
       "      <td>Braund, Mr. Owen Harris</td>\n",
       "      <td>male</td>\n",
       "      <td>22.0</td>\n",
       "      <td>1</td>\n",
       "      <td>0</td>\n",
       "      <td>A/5 21171</td>\n",
       "      <td>7.2500</td>\n",
       "      <td>NaN</td>\n",
       "      <td>S</td>\n",
       "    </tr>\n",
       "    <tr>\n",
       "      <th>2</th>\n",
       "      <td>1</td>\n",
       "      <td>1</td>\n",
       "      <td>Cumings, Mrs. John Bradley (Florence Briggs Th...</td>\n",
       "      <td>female</td>\n",
       "      <td>38.0</td>\n",
       "      <td>1</td>\n",
       "      <td>0</td>\n",
       "      <td>PC 17599</td>\n",
       "      <td>71.2833</td>\n",
       "      <td>C85</td>\n",
       "      <td>C</td>\n",
       "    </tr>\n",
       "    <tr>\n",
       "      <th>3</th>\n",
       "      <td>1</td>\n",
       "      <td>3</td>\n",
       "      <td>Heikkinen, Miss. Laina</td>\n",
       "      <td>female</td>\n",
       "      <td>26.0</td>\n",
       "      <td>0</td>\n",
       "      <td>0</td>\n",
       "      <td>STON/O2. 3101282</td>\n",
       "      <td>7.9250</td>\n",
       "      <td>NaN</td>\n",
       "      <td>S</td>\n",
       "    </tr>\n",
       "    <tr>\n",
       "      <th>4</th>\n",
       "      <td>1</td>\n",
       "      <td>1</td>\n",
       "      <td>Futrelle, Mrs. Jacques Heath (Lily May Peel)</td>\n",
       "      <td>female</td>\n",
       "      <td>35.0</td>\n",
       "      <td>1</td>\n",
       "      <td>0</td>\n",
       "      <td>113803</td>\n",
       "      <td>53.1000</td>\n",
       "      <td>C123</td>\n",
       "      <td>S</td>\n",
       "    </tr>\n",
       "    <tr>\n",
       "      <th>5</th>\n",
       "      <td>0</td>\n",
       "      <td>3</td>\n",
       "      <td>Allen, Mr. William Henry</td>\n",
       "      <td>male</td>\n",
       "      <td>35.0</td>\n",
       "      <td>0</td>\n",
       "      <td>0</td>\n",
       "      <td>373450</td>\n",
       "      <td>8.0500</td>\n",
       "      <td>NaN</td>\n",
       "      <td>S</td>\n",
       "    </tr>\n",
       "  </tbody>\n",
       "</table>\n",
       "</div>"
      ],
      "text/plain": [
       "             Survived  Pclass  \\\n",
       "PassengerId                     \n",
       "1                   0       3   \n",
       "2                   1       1   \n",
       "3                   1       3   \n",
       "4                   1       1   \n",
       "5                   0       3   \n",
       "\n",
       "                                                          Name     Sex   Age  \\\n",
       "PassengerId                                                                    \n",
       "1                                      Braund, Mr. Owen Harris    male  22.0   \n",
       "2            Cumings, Mrs. John Bradley (Florence Briggs Th...  female  38.0   \n",
       "3                                       Heikkinen, Miss. Laina  female  26.0   \n",
       "4                 Futrelle, Mrs. Jacques Heath (Lily May Peel)  female  35.0   \n",
       "5                                     Allen, Mr. William Henry    male  35.0   \n",
       "\n",
       "             SibSp  Parch            Ticket     Fare Cabin Embarked  \n",
       "PassengerId                                                          \n",
       "1                1      0         A/5 21171   7.2500   NaN        S  \n",
       "2                1      0          PC 17599  71.2833   C85        C  \n",
       "3                0      0  STON/O2. 3101282   7.9250   NaN        S  \n",
       "4                1      0            113803  53.1000  C123        S  \n",
       "5                0      0            373450   8.0500   NaN        S  "
      ]
     },
     "execution_count": 4,
     "metadata": {},
     "output_type": "execute_result"
    }
   ],
   "source": [
    "PATH = \"../../data/titanic\"\n",
    "df = pd.read_csv(os.path.join(PATH, \"train.csv\"), index_col=0)\n",
    "df.head()\n",
    "\n",
    "\n",
    "\n"
   ]
  },
  {
   "cell_type": "code",
   "execution_count": 5,
   "id": "3bc526a9",
   "metadata": {},
   "outputs": [
    {
     "data": {
      "text/plain": [
       "Survived      0\n",
       "Pclass        0\n",
       "Name          0\n",
       "Sex           0\n",
       "Age         177\n",
       "SibSp         0\n",
       "Parch         0\n",
       "Ticket        0\n",
       "Fare          0\n",
       "Cabin       687\n",
       "Embarked      2\n",
       "dtype: int64"
      ]
     },
     "execution_count": 5,
     "metadata": {},
     "output_type": "execute_result"
    }
   ],
   "source": [
    "df.isnull().sum()"
   ]
  },
  {
   "cell_type": "code",
   "execution_count": 6,
   "id": "397e3d76",
   "metadata": {},
   "outputs": [
    {
     "data": {
      "text/html": [
       "<div>\n",
       "<style scoped>\n",
       "    .dataframe tbody tr th:only-of-type {\n",
       "        vertical-align: middle;\n",
       "    }\n",
       "\n",
       "    .dataframe tbody tr th {\n",
       "        vertical-align: top;\n",
       "    }\n",
       "\n",
       "    .dataframe thead th {\n",
       "        text-align: right;\n",
       "    }\n",
       "</style>\n",
       "<table border=\"1\" class=\"dataframe\">\n",
       "  <thead>\n",
       "    <tr style=\"text-align: right;\">\n",
       "      <th></th>\n",
       "      <th>Survived</th>\n",
       "      <th>Pclass</th>\n",
       "      <th>Name</th>\n",
       "      <th>Sex</th>\n",
       "      <th>Age</th>\n",
       "      <th>SibSp</th>\n",
       "      <th>Parch</th>\n",
       "      <th>Ticket</th>\n",
       "      <th>Fare</th>\n",
       "      <th>Embarked</th>\n",
       "    </tr>\n",
       "    <tr>\n",
       "      <th>PassengerId</th>\n",
       "      <th></th>\n",
       "      <th></th>\n",
       "      <th></th>\n",
       "      <th></th>\n",
       "      <th></th>\n",
       "      <th></th>\n",
       "      <th></th>\n",
       "      <th></th>\n",
       "      <th></th>\n",
       "      <th></th>\n",
       "    </tr>\n",
       "  </thead>\n",
       "  <tbody>\n",
       "    <tr>\n",
       "      <th>1</th>\n",
       "      <td>0</td>\n",
       "      <td>3</td>\n",
       "      <td>Braund, Mr. Owen Harris</td>\n",
       "      <td>male</td>\n",
       "      <td>22.0</td>\n",
       "      <td>1</td>\n",
       "      <td>0</td>\n",
       "      <td>A/5 21171</td>\n",
       "      <td>7.2500</td>\n",
       "      <td>S</td>\n",
       "    </tr>\n",
       "    <tr>\n",
       "      <th>2</th>\n",
       "      <td>1</td>\n",
       "      <td>1</td>\n",
       "      <td>Cumings, Mrs. John Bradley (Florence Briggs Th...</td>\n",
       "      <td>female</td>\n",
       "      <td>38.0</td>\n",
       "      <td>1</td>\n",
       "      <td>0</td>\n",
       "      <td>PC 17599</td>\n",
       "      <td>71.2833</td>\n",
       "      <td>C</td>\n",
       "    </tr>\n",
       "    <tr>\n",
       "      <th>3</th>\n",
       "      <td>1</td>\n",
       "      <td>3</td>\n",
       "      <td>Heikkinen, Miss. Laina</td>\n",
       "      <td>female</td>\n",
       "      <td>26.0</td>\n",
       "      <td>0</td>\n",
       "      <td>0</td>\n",
       "      <td>STON/O2. 3101282</td>\n",
       "      <td>7.9250</td>\n",
       "      <td>S</td>\n",
       "    </tr>\n",
       "    <tr>\n",
       "      <th>4</th>\n",
       "      <td>1</td>\n",
       "      <td>1</td>\n",
       "      <td>Futrelle, Mrs. Jacques Heath (Lily May Peel)</td>\n",
       "      <td>female</td>\n",
       "      <td>35.0</td>\n",
       "      <td>1</td>\n",
       "      <td>0</td>\n",
       "      <td>113803</td>\n",
       "      <td>53.1000</td>\n",
       "      <td>S</td>\n",
       "    </tr>\n",
       "    <tr>\n",
       "      <th>5</th>\n",
       "      <td>0</td>\n",
       "      <td>3</td>\n",
       "      <td>Allen, Mr. William Henry</td>\n",
       "      <td>male</td>\n",
       "      <td>35.0</td>\n",
       "      <td>0</td>\n",
       "      <td>0</td>\n",
       "      <td>373450</td>\n",
       "      <td>8.0500</td>\n",
       "      <td>S</td>\n",
       "    </tr>\n",
       "    <tr>\n",
       "      <th>...</th>\n",
       "      <td>...</td>\n",
       "      <td>...</td>\n",
       "      <td>...</td>\n",
       "      <td>...</td>\n",
       "      <td>...</td>\n",
       "      <td>...</td>\n",
       "      <td>...</td>\n",
       "      <td>...</td>\n",
       "      <td>...</td>\n",
       "      <td>...</td>\n",
       "    </tr>\n",
       "    <tr>\n",
       "      <th>887</th>\n",
       "      <td>0</td>\n",
       "      <td>2</td>\n",
       "      <td>Montvila, Rev. Juozas</td>\n",
       "      <td>male</td>\n",
       "      <td>27.0</td>\n",
       "      <td>0</td>\n",
       "      <td>0</td>\n",
       "      <td>211536</td>\n",
       "      <td>13.0000</td>\n",
       "      <td>S</td>\n",
       "    </tr>\n",
       "    <tr>\n",
       "      <th>888</th>\n",
       "      <td>1</td>\n",
       "      <td>1</td>\n",
       "      <td>Graham, Miss. Margaret Edith</td>\n",
       "      <td>female</td>\n",
       "      <td>19.0</td>\n",
       "      <td>0</td>\n",
       "      <td>0</td>\n",
       "      <td>112053</td>\n",
       "      <td>30.0000</td>\n",
       "      <td>S</td>\n",
       "    </tr>\n",
       "    <tr>\n",
       "      <th>889</th>\n",
       "      <td>0</td>\n",
       "      <td>3</td>\n",
       "      <td>Johnston, Miss. Catherine Helen \"Carrie\"</td>\n",
       "      <td>female</td>\n",
       "      <td>NaN</td>\n",
       "      <td>1</td>\n",
       "      <td>2</td>\n",
       "      <td>W./C. 6607</td>\n",
       "      <td>23.4500</td>\n",
       "      <td>S</td>\n",
       "    </tr>\n",
       "    <tr>\n",
       "      <th>890</th>\n",
       "      <td>1</td>\n",
       "      <td>1</td>\n",
       "      <td>Behr, Mr. Karl Howell</td>\n",
       "      <td>male</td>\n",
       "      <td>26.0</td>\n",
       "      <td>0</td>\n",
       "      <td>0</td>\n",
       "      <td>111369</td>\n",
       "      <td>30.0000</td>\n",
       "      <td>C</td>\n",
       "    </tr>\n",
       "    <tr>\n",
       "      <th>891</th>\n",
       "      <td>0</td>\n",
       "      <td>3</td>\n",
       "      <td>Dooley, Mr. Patrick</td>\n",
       "      <td>male</td>\n",
       "      <td>32.0</td>\n",
       "      <td>0</td>\n",
       "      <td>0</td>\n",
       "      <td>370376</td>\n",
       "      <td>7.7500</td>\n",
       "      <td>Q</td>\n",
       "    </tr>\n",
       "  </tbody>\n",
       "</table>\n",
       "<p>889 rows × 10 columns</p>\n",
       "</div>"
      ],
      "text/plain": [
       "             Survived  Pclass  \\\n",
       "PassengerId                     \n",
       "1                   0       3   \n",
       "2                   1       1   \n",
       "3                   1       3   \n",
       "4                   1       1   \n",
       "5                   0       3   \n",
       "...               ...     ...   \n",
       "887                 0       2   \n",
       "888                 1       1   \n",
       "889                 0       3   \n",
       "890                 1       1   \n",
       "891                 0       3   \n",
       "\n",
       "                                                          Name     Sex   Age  \\\n",
       "PassengerId                                                                    \n",
       "1                                      Braund, Mr. Owen Harris    male  22.0   \n",
       "2            Cumings, Mrs. John Bradley (Florence Briggs Th...  female  38.0   \n",
       "3                                       Heikkinen, Miss. Laina  female  26.0   \n",
       "4                 Futrelle, Mrs. Jacques Heath (Lily May Peel)  female  35.0   \n",
       "5                                     Allen, Mr. William Henry    male  35.0   \n",
       "...                                                        ...     ...   ...   \n",
       "887                                      Montvila, Rev. Juozas    male  27.0   \n",
       "888                               Graham, Miss. Margaret Edith  female  19.0   \n",
       "889                   Johnston, Miss. Catherine Helen \"Carrie\"  female   NaN   \n",
       "890                                      Behr, Mr. Karl Howell    male  26.0   \n",
       "891                                        Dooley, Mr. Patrick    male  32.0   \n",
       "\n",
       "             SibSp  Parch            Ticket     Fare Embarked  \n",
       "PassengerId                                                    \n",
       "1                1      0         A/5 21171   7.2500        S  \n",
       "2                1      0          PC 17599  71.2833        C  \n",
       "3                0      0  STON/O2. 3101282   7.9250        S  \n",
       "4                1      0            113803  53.1000        S  \n",
       "5                0      0            373450   8.0500        S  \n",
       "...            ...    ...               ...      ...      ...  \n",
       "887              0      0            211536  13.0000        S  \n",
       "888              0      0            112053  30.0000        S  \n",
       "889              1      2        W./C. 6607  23.4500        S  \n",
       "890              0      0            111369  30.0000        C  \n",
       "891              0      0            370376   7.7500        Q  \n",
       "\n",
       "[889 rows x 10 columns]"
      ]
     },
     "execution_count": 6,
     "metadata": {},
     "output_type": "execute_result"
    }
   ],
   "source": [
    "df.drop([\"Cabin\"], axis=1, inplace=True)  # too many missing values\n",
    "df.dropna(subset=[\"Embarked\"], inplace=True)  # only 2 missing values\n",
    "\n",
    "df"
   ]
  },
  {
   "cell_type": "code",
   "execution_count": 7,
   "id": "9edb2744",
   "metadata": {},
   "outputs": [
    {
     "data": {
      "text/html": [
       "<div>\n",
       "<style scoped>\n",
       "    .dataframe tbody tr th:only-of-type {\n",
       "        vertical-align: middle;\n",
       "    }\n",
       "\n",
       "    .dataframe tbody tr th {\n",
       "        vertical-align: top;\n",
       "    }\n",
       "\n",
       "    .dataframe thead th {\n",
       "        text-align: right;\n",
       "    }\n",
       "</style>\n",
       "<table border=\"1\" class=\"dataframe\">\n",
       "  <thead>\n",
       "    <tr style=\"text-align: right;\">\n",
       "      <th></th>\n",
       "      <th>Survived</th>\n",
       "      <th>Pclass</th>\n",
       "      <th>Name</th>\n",
       "      <th>Sex</th>\n",
       "      <th>Age</th>\n",
       "      <th>SibSp</th>\n",
       "      <th>Parch</th>\n",
       "      <th>Ticket</th>\n",
       "      <th>Fare</th>\n",
       "      <th>Embarked</th>\n",
       "    </tr>\n",
       "  </thead>\n",
       "  <tbody>\n",
       "    <tr>\n",
       "      <th>0</th>\n",
       "      <td>1</td>\n",
       "      <td>3</td>\n",
       "      <td>Nilsson, Miss. Helmina Josefina</td>\n",
       "      <td>female</td>\n",
       "      <td>26.0</td>\n",
       "      <td>0</td>\n",
       "      <td>0</td>\n",
       "      <td>347470</td>\n",
       "      <td>7.8542</td>\n",
       "      <td>S</td>\n",
       "    </tr>\n",
       "    <tr>\n",
       "      <th>1</th>\n",
       "      <td>1</td>\n",
       "      <td>2</td>\n",
       "      <td>Collyer, Mrs. Harvey (Charlotte Annie Tate)</td>\n",
       "      <td>female</td>\n",
       "      <td>31.0</td>\n",
       "      <td>1</td>\n",
       "      <td>1</td>\n",
       "      <td>C.A. 31921</td>\n",
       "      <td>26.2500</td>\n",
       "      <td>S</td>\n",
       "    </tr>\n",
       "    <tr>\n",
       "      <th>2</th>\n",
       "      <td>0</td>\n",
       "      <td>3</td>\n",
       "      <td>Johansson, Mr. Karl Johan</td>\n",
       "      <td>male</td>\n",
       "      <td>31.0</td>\n",
       "      <td>0</td>\n",
       "      <td>0</td>\n",
       "      <td>347063</td>\n",
       "      <td>7.7750</td>\n",
       "      <td>S</td>\n",
       "    </tr>\n",
       "    <tr>\n",
       "      <th>3</th>\n",
       "      <td>1</td>\n",
       "      <td>2</td>\n",
       "      <td>Brown, Miss. Amelia \"Mildred\"</td>\n",
       "      <td>female</td>\n",
       "      <td>24.0</td>\n",
       "      <td>0</td>\n",
       "      <td>0</td>\n",
       "      <td>248733</td>\n",
       "      <td>13.0000</td>\n",
       "      <td>S</td>\n",
       "    </tr>\n",
       "    <tr>\n",
       "      <th>4</th>\n",
       "      <td>0</td>\n",
       "      <td>3</td>\n",
       "      <td>Arnold-Franchi, Mrs. Josef (Josefine Franchi)</td>\n",
       "      <td>female</td>\n",
       "      <td>18.0</td>\n",
       "      <td>1</td>\n",
       "      <td>0</td>\n",
       "      <td>349237</td>\n",
       "      <td>17.8000</td>\n",
       "      <td>S</td>\n",
       "    </tr>\n",
       "  </tbody>\n",
       "</table>\n",
       "</div>"
      ],
      "text/plain": [
       "   Survived  Pclass                                           Name     Sex  \\\n",
       "0         1       3                Nilsson, Miss. Helmina Josefina  female   \n",
       "1         1       2    Collyer, Mrs. Harvey (Charlotte Annie Tate)  female   \n",
       "2         0       3                      Johansson, Mr. Karl Johan    male   \n",
       "3         1       2                  Brown, Miss. Amelia \"Mildred\"  female   \n",
       "4         0       3  Arnold-Franchi, Mrs. Josef (Josefine Franchi)  female   \n",
       "\n",
       "    Age  SibSp  Parch      Ticket     Fare Embarked  \n",
       "0  26.0      0      0      347470   7.8542        S  \n",
       "1  31.0      1      1  C.A. 31921  26.2500        S  \n",
       "2  31.0      0      0      347063   7.7750        S  \n",
       "3  24.0      0      0      248733  13.0000        S  \n",
       "4  18.0      1      0      349237  17.8000        S  "
      ]
     },
     "execution_count": 7,
     "metadata": {},
     "output_type": "execute_result"
    }
   ],
   "source": [
    "# train-test-split\n",
    "df_train, df_test = train_test_split(df, test_size=0.15, random_state=42, shuffle=True)\n",
    "combine = [df_train, df_test]\n",
    "\n",
    "df_train.reset_index(drop=True, inplace=True)\n",
    "df_test.reset_index(drop=True, inplace=True)\n",
    "df_train.head()"
   ]
  },
  {
   "cell_type": "code",
   "execution_count": 8,
   "id": "18f53f43",
   "metadata": {},
   "outputs": [],
   "source": [
    "# perform data preprocessing separately on each of the datasets:\n",
    "# 1. converting male and female to binary (0 and 1)\n",
    "# 2. imputing age based on median value for given class and sex\n",
    "# 3. converting embarked in S t0 0, C to 1 and Q to 2\n",
    "\n",
    "for dataset in combine:\n",
    "    # convert categorical features to numeric\n",
    "    dataset['Sex'] = dataset['Sex'].map({'male': 0, 'female': 1}).astype(int)\n",
    "    dataset['Embarked'] = dataset['Embarked'].map({'S': 0, 'C': 1, 'Q': 2}).astype(int)\n",
    "    \n",
    "    # fill missging values for age\n",
    "    guess_ages = np.zeros((2, 3))\n",
    "    for i in range(0, 2):\n",
    "        for j in range(0, 3):\n",
    "            guess_df = dataset[(dataset['Sex'] == i) & (dataset['Pclass'] == j+1)]['Age'].dropna()\n",
    "            guess_ages[i, j] = int(guess_df.median())\n",
    "            \n",
    "    for i in range(0, 2):\n",
    "        for j in range(0, 3):\n",
    "            dataset.loc[(dataset.Age.isnull()) & (dataset.Sex ==i) & (dataset.Pclass == j+1), 'Age'] = guess_ages[i, j]\n",
    "            \n",
    "    dataset['Age'] = dataset['Age'].astype(int)"
   ]
  },
  {
   "cell_type": "code",
   "execution_count": 9,
   "id": "2f69a06a",
   "metadata": {},
   "outputs": [
    {
     "name": "stdout",
     "output_type": "stream",
     "text": [
      "<class 'pandas.core.frame.DataFrame'>\n",
      "RangeIndex: 755 entries, 0 to 754\n",
      "Data columns (total 10 columns):\n",
      " #   Column    Non-Null Count  Dtype  \n",
      "---  ------    --------------  -----  \n",
      " 0   Survived  755 non-null    int64  \n",
      " 1   Pclass    755 non-null    int64  \n",
      " 2   Name      755 non-null    object \n",
      " 3   Sex       755 non-null    int64  \n",
      " 4   Age       755 non-null    int64  \n",
      " 5   SibSp     755 non-null    int64  \n",
      " 6   Parch     755 non-null    int64  \n",
      " 7   Ticket    755 non-null    object \n",
      " 8   Fare      755 non-null    float64\n",
      " 9   Embarked  755 non-null    int64  \n",
      "dtypes: float64(1), int64(7), object(2)\n",
      "memory usage: 59.1+ KB\n",
      "<class 'pandas.core.frame.DataFrame'>\n",
      "RangeIndex: 134 entries, 0 to 133\n",
      "Data columns (total 10 columns):\n",
      " #   Column    Non-Null Count  Dtype  \n",
      "---  ------    --------------  -----  \n",
      " 0   Survived  134 non-null    int64  \n",
      " 1   Pclass    134 non-null    int64  \n",
      " 2   Name      134 non-null    object \n",
      " 3   Sex       134 non-null    int64  \n",
      " 4   Age       134 non-null    int64  \n",
      " 5   SibSp     134 non-null    int64  \n",
      " 6   Parch     134 non-null    int64  \n",
      " 7   Ticket    134 non-null    object \n",
      " 8   Fare      134 non-null    float64\n",
      " 9   Embarked  134 non-null    int64  \n",
      "dtypes: float64(1), int64(7), object(2)\n",
      "memory usage: 10.6+ KB\n"
     ]
    }
   ],
   "source": [
    "for dataset in combine:\n",
    "    dataset.info()"
   ]
  },
  {
   "cell_type": "code",
   "execution_count": 10,
   "id": "51aecd98",
   "metadata": {},
   "outputs": [],
   "source": [
    "# drop columns that are irrelevant for prediction\n",
    "\n",
    "for dataset in combine:\n",
    "    dataset.drop(\"Name\", axis=1, inplace=True)\n",
    "    dataset.drop(\"Ticket\", axis=1, inplace=True)"
   ]
  },
  {
   "cell_type": "code",
   "execution_count": 11,
   "id": "c0fcf73b",
   "metadata": {},
   "outputs": [
    {
     "data": {
      "text/plain": [
       "<Axes: xlabel='Age', ylabel='Pclass'>"
      ]
     },
     "execution_count": 11,
     "metadata": {},
     "output_type": "execute_result"
    },
    {
     "data": {
      "image/png": "[encoded data removed]",
      "text/plain": [
       "<Figure size 640x480 with 1 Axes>"
      ]
     },
     "metadata": {},
     "output_type": "display_data"
    }
   ],
   "source": [
    "sns.scatterplot(x='Age', y='Pclass', hue=\"Survived\", data=df_train[[\"Age\", \"Pclass\", \"Survived\"]])\n",
    "#sns.lineplot(x= np.array([2.0, 44.0]), y = np.array([3.0, 1.0]))\n",
    "#sns.lineplot(x= np.array([2.0, 61.0]), y = np.array([3.0, 1.0]))"
   ]
  },
  {
   "cell_type": "code",
   "execution_count": 12,
   "id": "e79c835c",
   "metadata": {},
   "outputs": [
    {
     "data": {
      "text/plain": [
       "((755, 2), (755,), (134, 2), (134,))"
      ]
     },
     "execution_count": 12,
     "metadata": {},
     "output_type": "execute_result"
    }
   ],
   "source": [
    "# create features\n",
    "X_train = df_train[[\"Age\", \"Pclass\"]]\n",
    "y_train = df_train[\"Survived\"]\n",
    "X_test = df_test[[\"Age\", \"Pclass\"]]\n",
    "y_test = df_test[\"Survived\"]\n",
    "\n",
    "X_train.shape, y_train.shape, X_test.shape, y_test.shape"
   ]
  },
  {
   "cell_type": "markdown",
   "id": "d33d66fe",
   "metadata": {},
   "source": [
    "# Logistic Regression\n",
    "https://scikit-learn.org/stable/modules/generated/sklearn.linear_model.LogisticRegression.html"
   ]
  },
  {
   "cell_type": "code",
   "execution_count": 13,
   "id": "7b034113",
   "metadata": {},
   "outputs": [
    {
     "data": {
      "text/plain": [
       "69.4"
      ]
     },
     "execution_count": 13,
     "metadata": {},
     "output_type": "execute_result"
    }
   ],
   "source": [
    "model = LogisticRegression() \n",
    "model.fit(X_train, y_train)\n",
    "\n",
    "y_pred = model.predict(X_test)\n",
    "acc_log = round(model.score(X_train, y_train)*100, 2)\n",
    "acc_log\n",
    "# score - відсоток правильних відповідей"
   ]
  },
  {
   "cell_type": "code",
   "execution_count": 14,
   "id": "7850c079",
   "metadata": {},
   "outputs": [
    {
     "data": {
      "text/plain": [
       "(array([[-0.0464081 , -1.19343869]]), array([3.60349275]))"
      ]
     },
     "execution_count": 14,
     "metadata": {},
     "output_type": "execute_result"
    }
   ],
   "source": [
    "model.coef_, model.intercept_ # intercept - bias"
   ]
  },
  {
   "cell_type": "code",
   "execution_count": 15,
   "id": "2c71f89d",
   "metadata": {},
   "outputs": [
    {
     "data": {
      "text/plain": [
       "3.6034927455698957"
      ]
     },
     "execution_count": 15,
     "metadata": {},
     "output_type": "execute_result"
    }
   ],
   "source": [
    "model.intercept_.item()"
   ]
  },
  {
   "cell_type": "code",
   "execution_count": 16,
   "id": "dc4ff197",
   "metadata": {},
   "outputs": [
    {
     "data": {
      "text/plain": [
       "3.0194200843279178"
      ]
     },
     "execution_count": 16,
     "metadata": {},
     "output_type": "execute_result"
    }
   ],
   "source": [
    "# f(x_1, x_2)  = 0\n",
    "\n",
    "# x_1*model.coef_[0][0] + x_2*model.coef_[0][1] + model.intercept_.item() = 0\n",
    "# x_1*model.coef_[0][0] + x_2*model.coef_[0][1] = - model.intercept_.item()\n",
    "\n",
    "# when x_1 = 0:\n",
    "# x_2*1.19343869 - 3.60349275 = 0\n",
    "#\n",
    "x_2_when_x_1_0 = 3.60349275/1.19343869\n",
    "x_2_when_x_1_0"
   ]
  },
  {
   "cell_type": "code",
   "execution_count": 17,
   "id": "5d3fd1b1",
   "metadata": {},
   "outputs": [
    {
     "data": {
      "text/plain": [
       "77.64792676278495"
      ]
     },
     "execution_count": 17,
     "metadata": {},
     "output_type": "execute_result"
    }
   ],
   "source": [
    "# when x_2=0\n",
    "# x_1*0.0464081 = -3.60349275/0.0464081\n",
    "x_1_when_x_2_0 = -3.60349275/-0.0464081\n",
    "x_1_when_x_2_0"
   ]
  },
  {
   "cell_type": "code",
   "execution_count": 18,
   "id": "835e94c6",
   "metadata": {},
   "outputs": [
    {
     "data": {
      "text/plain": [
       "<Axes: xlabel='Age', ylabel='Pclass'>"
      ]
     },
     "execution_count": 18,
     "metadata": {},
     "output_type": "execute_result"
    },
    {
     "data": {
      "image/png": "[encoded data removed]",
      "text/plain": [
       "<Figure size 640x480 with 1 Axes>"
      ]
     },
     "metadata": {},
     "output_type": "display_data"
    }
   ],
   "source": [
    "sns.scatterplot(x='Age', y='Pclass', hue=\"Survived\", data=df_train[[\"Age\", \"Pclass\", \"Survived\"]])\n",
    "sns.lineplot(x= np.array([0.0, x_1_when_x_2_0]), y = np.array([x_2_when_x_1_0, 0.0]))\n",
    "#sns.lineplot(x= np.array([2.0, x_1_when_x_2_0]), y = np.array([3.0, 1.0]))\n",
    "#sns.lineplot(x= np.array([x_2_when_x_1_0, 61.0]), y = np.array([3.0, 1.0]))"
   ]
  },
  {
   "cell_type": "code",
   "execution_count": 19,
   "id": "4c94508a",
   "metadata": {},
   "outputs": [
    {
     "data": {
      "text/html": [
       "<div>\n",
       "<style scoped>\n",
       "    .dataframe tbody tr th:only-of-type {\n",
       "        vertical-align: middle;\n",
       "    }\n",
       "\n",
       "    .dataframe tbody tr th {\n",
       "        vertical-align: top;\n",
       "    }\n",
       "\n",
       "    .dataframe thead th {\n",
       "        text-align: right;\n",
       "    }\n",
       "</style>\n",
       "<table border=\"1\" class=\"dataframe\">\n",
       "  <thead>\n",
       "    <tr style=\"text-align: right;\">\n",
       "      <th></th>\n",
       "      <th>Feature</th>\n",
       "      <th>Correlation</th>\n",
       "    </tr>\n",
       "  </thead>\n",
       "  <tbody>\n",
       "    <tr>\n",
       "      <th>0</th>\n",
       "      <td>Age</td>\n",
       "      <td>-0.046408</td>\n",
       "    </tr>\n",
       "    <tr>\n",
       "      <th>1</th>\n",
       "      <td>Pclass</td>\n",
       "      <td>-1.193439</td>\n",
       "    </tr>\n",
       "  </tbody>\n",
       "</table>\n",
       "</div>"
      ],
      "text/plain": [
       "  Feature  Correlation\n",
       "0     Age    -0.046408\n",
       "1  Pclass    -1.193439"
      ]
     },
     "execution_count": 19,
     "metadata": {},
     "output_type": "execute_result"
    }
   ],
   "source": [
    "coef_df = pd.DataFrame(X_train.columns)\n",
    "coef_df.columns = ['Feature']\n",
    "coef_df[\"Correlation\"] = pd.Series(model.coef_[0])\n",
    "\n",
    "coef_df.sort_values(by='Correlation', ascending=False)"
   ]
  },
  {
   "cell_type": "code",
   "execution_count": 20,
   "id": "17341851",
   "metadata": {},
   "outputs": [
    {
     "data": {
      "text/plain": [
       "((755, 7), (755,), (134, 7), (134,))"
      ]
     },
     "execution_count": 20,
     "metadata": {},
     "output_type": "execute_result"
    }
   ],
   "source": [
    "# add more features\n",
    "X_train_df = df_train.drop(\"Survived\", axis=1)\n",
    "X_train = X_train_df.to_numpy()\n",
    "y_train = df_train[\"Survived\"]\n",
    "X_test_df = df_test.drop(\"Survived\", axis=1)\n",
    "X_test = X_test_df.to_numpy()\n",
    "y_test = df_test[\"Survived\"]\n",
    "\n",
    "X_train.shape, y_train.shape, X_test.shape, y_test.shape\n"
   ]
  },
  {
   "cell_type": "code",
   "execution_count": 21,
   "id": "038be0df",
   "metadata": {},
   "outputs": [
    {
     "data": {
      "text/plain": [
       "80.4"
      ]
     },
     "execution_count": 21,
     "metadata": {},
     "output_type": "execute_result"
    }
   ],
   "source": [
    "model = LogisticRegression(max_iter=200)\n",
    "model.fit(X_train, y_train)\n",
    "\n",
    "y_pred = model.predict(X_test)\n",
    "acc_log = round(model.score(X_train, y_train)*100, 2)\n",
    "acc_log"
   ]
  },
  {
   "cell_type": "markdown",
   "id": "ae6ccdef",
   "metadata": {},
   "source": [
    "x1 * model.coef_[0][0] + x_2*model.coef_[0][1] + x_3* model.coef_[0][2] + .... + model.intercept_.item() = 0"
   ]
  },
  {
   "cell_type": "code",
   "execution_count": 22,
   "id": "c1ea1f39",
   "metadata": {},
   "outputs": [
    {
     "data": {
      "text/html": [
       "<div>\n",
       "<style scoped>\n",
       "    .dataframe tbody tr th:only-of-type {\n",
       "        vertical-align: middle;\n",
       "    }\n",
       "\n",
       "    .dataframe tbody tr th {\n",
       "        vertical-align: top;\n",
       "    }\n",
       "\n",
       "    .dataframe thead th {\n",
       "        text-align: right;\n",
       "    }\n",
       "</style>\n",
       "<table border=\"1\" class=\"dataframe\">\n",
       "  <thead>\n",
       "    <tr style=\"text-align: right;\">\n",
       "      <th></th>\n",
       "      <th>Feature</th>\n",
       "      <th>Correlation</th>\n",
       "    </tr>\n",
       "  </thead>\n",
       "  <tbody>\n",
       "    <tr>\n",
       "      <th>1</th>\n",
       "      <td>Sex</td>\n",
       "      <td>2.539042</td>\n",
       "    </tr>\n",
       "    <tr>\n",
       "      <th>6</th>\n",
       "      <td>Embarked</td>\n",
       "      <td>0.196484</td>\n",
       "    </tr>\n",
       "    <tr>\n",
       "      <th>5</th>\n",
       "      <td>Fare</td>\n",
       "      <td>0.001283</td>\n",
       "    </tr>\n",
       "    <tr>\n",
       "      <th>4</th>\n",
       "      <td>Parch</td>\n",
       "      <td>-0.043163</td>\n",
       "    </tr>\n",
       "    <tr>\n",
       "      <th>2</th>\n",
       "      <td>Age</td>\n",
       "      <td>-0.047143</td>\n",
       "    </tr>\n",
       "    <tr>\n",
       "      <th>3</th>\n",
       "      <td>SibSp</td>\n",
       "      <td>-0.365092</td>\n",
       "    </tr>\n",
       "    <tr>\n",
       "      <th>0</th>\n",
       "      <td>Pclass</td>\n",
       "      <td>-1.247458</td>\n",
       "    </tr>\n",
       "  </tbody>\n",
       "</table>\n",
       "</div>"
      ],
      "text/plain": [
       "    Feature  Correlation\n",
       "1       Sex     2.539042\n",
       "6  Embarked     0.196484\n",
       "5      Fare     0.001283\n",
       "4     Parch    -0.043163\n",
       "2       Age    -0.047143\n",
       "3     SibSp    -0.365092\n",
       "0    Pclass    -1.247458"
      ]
     },
     "execution_count": 22,
     "metadata": {},
     "output_type": "execute_result"
    }
   ],
   "source": [
    "coeff_df = pd.DataFrame(X_train_df.columns)\n",
    "coeff_df.columns = ['Feature']\n",
    "coeff_df[\"Correlation\"] = pd.Series(model.coef_[0])\n",
    "\n",
    "coeff_df.sort_values(by='Correlation', ascending=False)"
   ]
  },
  {
   "cell_type": "code",
   "execution_count": 23,
   "id": "25b3d0e9",
   "metadata": {},
   "outputs": [
    {
     "name": "stdout",
     "output_type": "stream",
     "text": [
      "Pclass 3.0\n",
      "Sex 0.0\n",
      "Age 28.0\n",
      "SibSp 0.0\n",
      "Parch 0.0\n",
      "Fare 7.8542\n",
      "Embarked 0.0\n"
     ]
    }
   ],
   "source": [
    "for feature_name, feature, in zip(X_test_df.columns, X_test[0]):\n",
    "    print(feature_name, feature)"
   ]
  },
  {
   "cell_type": "code",
   "execution_count": 24,
   "id": "177ac535",
   "metadata": {},
   "outputs": [
    {
     "data": {
      "text/plain": [
       "array([0, 1, 1, 0, 1, 0, 0, 0, 1, 1, 0, 1, 0, 0, 0, 0, 0, 0, 0, 0, 0, 1,\n",
       "       0, 1, 0, 0, 0, 1, 0, 0, 1, 1, 0, 1, 0, 0, 1, 1, 0, 0, 0, 1, 0, 0,\n",
       "       1, 0, 1, 0, 0, 1, 1, 1, 0, 0, 1, 1, 0, 0, 0, 0, 0, 0, 1, 0, 1, 0,\n",
       "       0, 0, 1, 1, 0, 1, 1, 0, 0, 1, 0, 0, 1, 1, 0, 1, 1, 1, 0, 0, 0, 0,\n",
       "       0, 0, 0, 1, 0, 0, 0, 1, 0, 0, 0, 0, 0, 1, 1, 0, 0, 0, 1, 1, 0, 0,\n",
       "       0, 1, 0, 1, 0, 0, 0, 0, 1, 0, 0, 1, 0, 0, 1, 1, 1, 1, 1, 0, 1, 0,\n",
       "       0, 0])"
      ]
     },
     "execution_count": 24,
     "metadata": {},
     "output_type": "execute_result"
    }
   ],
   "source": [
    "model.predict(X_test)"
   ]
  },
  {
   "cell_type": "code",
   "execution_count": 25,
   "id": "aca0a4db",
   "metadata": {},
   "outputs": [
    {
     "name": "stdout",
     "output_type": "stream",
     "text": [
      "Pclass 1.0\n",
      "Sex 1.0\n",
      "Age 14.0\n",
      "SibSp 1.0\n",
      "Parch 2.0\n",
      "Fare 120.0\n",
      "Embarked 0.0\n"
     ]
    }
   ],
   "source": [
    "for feature_name, feature in zip(X_test_df.columns, X_test[1]):\n",
    "    print(feature_name, feature)"
   ]
  },
  {
   "cell_type": "code",
   "execution_count": 26,
   "id": "a64e6845",
   "metadata": {},
   "outputs": [
    {
     "data": {
      "text/plain": [
       "array([[0.89928566, 0.10071434],\n",
       "       [0.03927268, 0.96072732],\n",
       "       [0.30038278, 0.69961722],\n",
       "       [0.73682616, 0.26317384],\n",
       "       [0.03482767, 0.96517233],\n",
       "       [0.8950408 , 0.1049592 ],\n",
       "       [0.68865112, 0.31134888],\n",
       "       [0.86509541, 0.13490459],\n",
       "       [0.09564956, 0.90435044],\n",
       "       [0.04422009, 0.95577991],\n",
       "       [0.58730775, 0.41269225],\n",
       "       [0.45425995, 0.54574005],\n",
       "       [0.96354832, 0.03645168],\n",
       "       [0.90509496, 0.09490504],\n",
       "       [0.90329333, 0.09670667],\n",
       "       [0.89756747, 0.10243253],\n",
       "       [0.68431016, 0.31568984],\n",
       "       [0.86981727, 0.13018273],\n",
       "       [0.77862032, 0.22137968],\n",
       "       [0.89041357, 0.10958643],\n",
       "       [0.72035505, 0.27964495],\n",
       "       [0.05909464, 0.94090536],\n",
       "       [0.9474384 , 0.0525616 ],\n",
       "       [0.4624614 , 0.5375386 ],\n",
       "       [0.89039426, 0.10960574],\n",
       "       [0.50953277, 0.49046723],\n",
       "       [0.75325965, 0.24674035],\n",
       "       [0.09289528, 0.90710472],\n",
       "       [0.50680137, 0.49319863],\n",
       "       [0.69934326, 0.30065674],\n",
       "       [0.41554625, 0.58445375],\n",
       "       [0.25491524, 0.74508476],\n",
       "       [0.89039426, 0.10960574],\n",
       "       [0.45850639, 0.54149361],\n",
       "       [0.96328097, 0.03671903],\n",
       "       [0.60484869, 0.39515131],\n",
       "       [0.29488007, 0.70511993],\n",
       "       [0.30586381, 0.69413619],\n",
       "       [0.86960156, 0.13039844],\n",
       "       [0.89039426, 0.10960574],\n",
       "       [0.85410235, 0.14589765],\n",
       "       [0.46850205, 0.53149795],\n",
       "       [0.66808447, 0.33191553],\n",
       "       [0.89041357, 0.10958643],\n",
       "       [0.48831775, 0.51168225],\n",
       "       [0.50848098, 0.49151902],\n",
       "       [0.21307184, 0.78692816],\n",
       "       [0.88098294, 0.11901706],\n",
       "       [0.77173084, 0.22826916],\n",
       "       [0.09377393, 0.90622607],\n",
       "       [0.07415981, 0.92584019],\n",
       "       [0.23739418, 0.76260582],\n",
       "       [0.87062855, 0.12937145],\n",
       "       [0.88472442, 0.11527558],\n",
       "       [0.09312011, 0.90687989],\n",
       "       [0.11458237, 0.88541763],\n",
       "       [0.5719754 , 0.4280246 ],\n",
       "       [0.93748522, 0.06251478],\n",
       "       [0.83504932, 0.16495068],\n",
       "       [0.73744786, 0.26255214],\n",
       "       [0.66335824, 0.33664176],\n",
       "       [0.51252845, 0.48747155],\n",
       "       [0.22201746, 0.77798254],\n",
       "       [0.83499924, 0.16500076],\n",
       "       [0.16141648, 0.83858352],\n",
       "       [0.61391943, 0.38608057],\n",
       "       [0.96180892, 0.03819108],\n",
       "       [0.893489  , 0.106511  ],\n",
       "       [0.09877205, 0.90122795],\n",
       "       [0.03527863, 0.96472137],\n",
       "       [0.70849943, 0.29150057],\n",
       "       [0.02180921, 0.97819079],\n",
       "       [0.31015891, 0.68984109],\n",
       "       [0.89483717, 0.10516283],\n",
       "       [0.59393513, 0.40606487],\n",
       "       [0.21686065, 0.78313935],\n",
       "       [0.8537889 , 0.1462111 ],\n",
       "       [0.92554938, 0.07445062],\n",
       "       [0.17717005, 0.82282995],\n",
       "       [0.42876744, 0.57123256],\n",
       "       [0.61107666, 0.38892334],\n",
       "       [0.04849668, 0.95150332],\n",
       "       [0.1203735 , 0.8796265 ],\n",
       "       [0.25491524, 0.74508476],\n",
       "       [0.82820157, 0.17179843],\n",
       "       [0.84582077, 0.15417923],\n",
       "       [0.94530364, 0.05469636],\n",
       "       [0.66808447, 0.33191553],\n",
       "       [0.88581195, 0.11418805],\n",
       "       [0.89039426, 0.10960574],\n",
       "       [0.91138397, 0.08861603],\n",
       "       [0.34634715, 0.65365285],\n",
       "       [0.87070742, 0.12929258],\n",
       "       [0.91872368, 0.08127632],\n",
       "       [0.88417752, 0.11582248],\n",
       "       [0.29951705, 0.70048295],\n",
       "       [0.89041357, 0.10958643],\n",
       "       [0.78047939, 0.21952061],\n",
       "       [0.81182612, 0.18817388],\n",
       "       [0.84582077, 0.15417923],\n",
       "       [0.88583791, 0.11416209],\n",
       "       [0.02471075, 0.97528925],\n",
       "       [0.47762046, 0.52237954],\n",
       "       [0.91507468, 0.08492532],\n",
       "       [0.92698898, 0.07301102],\n",
       "       [0.9476588 , 0.0523412 ],\n",
       "       [0.40204204, 0.59795796],\n",
       "       [0.03205608, 0.96794392],\n",
       "       [0.84693694, 0.15306306],\n",
       "       [0.86512974, 0.13487026],\n",
       "       [0.85931474, 0.14068526],\n",
       "       [0.31737225, 0.68262775],\n",
       "       [0.95632272, 0.04367728],\n",
       "       [0.09919444, 0.90080556],\n",
       "       [0.88768238, 0.11231762],\n",
       "       [0.89341747, 0.10658253],\n",
       "       [0.89657108, 0.10342892],\n",
       "       [0.74004865, 0.25995135],\n",
       "       [0.43502613, 0.56497387],\n",
       "       [0.91219656, 0.08780344],\n",
       "       [0.53699196, 0.46300804],\n",
       "       [0.05415253, 0.94584747],\n",
       "       [0.95820073, 0.04179927],\n",
       "       [0.88958378, 0.11041622],\n",
       "       [0.03889797, 0.96110203],\n",
       "       [0.06380289, 0.93619711],\n",
       "       [0.4624614 , 0.5375386 ],\n",
       "       [0.11684634, 0.88315366],\n",
       "       [0.25491524, 0.74508476],\n",
       "       [0.76476584, 0.23523416],\n",
       "       [0.17459002, 0.82540998],\n",
       "       [0.59212078, 0.40787922],\n",
       "       [0.85524694, 0.14475306],\n",
       "       [0.86981788, 0.13018212]])"
      ]
     },
     "execution_count": 26,
     "metadata": {},
     "output_type": "execute_result"
    }
   ],
   "source": [
    "model.predict_proba(X_test)"
   ]
  },
  {
   "cell_type": "code",
   "execution_count": 27,
   "id": "1927dc23",
   "metadata": {},
   "outputs": [
    {
     "data": {
      "text/plain": [
       "[<matplotlib.lines.Line2D at 0x7ecea2226a20>]"
      ]
     },
     "execution_count": 27,
     "metadata": {},
     "output_type": "execute_result"
    },
    {
     "data": {
      "image/png": "[encoded data removed]",
      "text/plain": [
       "<Figure size 640x480 with 1 Axes>"
      ]
     },
     "metadata": {},
     "output_type": "display_data"
    }
   ],
   "source": [
    "x = np.linspace(-10, 10, 100000)\n",
    "y = math.e**(-x)\n",
    "\n",
    "fig = plt.figure()\n",
    "# Create the plot\n",
    "plt.plot(x, y)"
   ]
  },
  {
   "cell_type": "code",
   "execution_count": 28,
   "id": "1440c924",
   "metadata": {},
   "outputs": [
    {
     "data": {
      "text/plain": [
       "[<matplotlib.lines.Line2D at 0x7ecea22a37a0>]"
      ]
     },
     "execution_count": 28,
     "metadata": {},
     "output_type": "execute_result"
    },
    {
     "data": {
      "image/png": "[encoded data removed]",
      "text/plain": [
       "<Figure size 640x480 with 1 Axes>"
      ]
     },
     "metadata": {},
     "output_type": "display_data"
    }
   ],
   "source": [
    "x = np.linspace(-10, 10, 100000)\n",
    "y = 1 / (1 + np.exp(-x))\n",
    "\n",
    "fig = plt.figure()\n",
    "\n",
    "plt.plot(x,y)"
   ]
  },
  {
   "cell_type": "code",
   "execution_count": 29,
   "id": "2d51df69",
   "metadata": {},
   "outputs": [
    {
     "data": {
      "text/plain": [
       "0.5"
      ]
     },
     "execution_count": 29,
     "metadata": {},
     "output_type": "execute_result"
    }
   ],
   "source": [
    "# y = 1 /(math.e**-1 + 1)\n",
    "y = 1 /(math.e**0 + 1)\n",
    "\n",
    "y\n"
   ]
  },
  {
   "cell_type": "code",
   "execution_count": 30,
   "id": "e5f0bd7f",
   "metadata": {},
   "outputs": [
    {
     "data": {
      "text/plain": [
       "array([[0.89928566, 0.10071434],\n",
       "       [0.03927268, 0.96072732],\n",
       "       [0.30038278, 0.69961722],\n",
       "       [0.73682616, 0.26317384],\n",
       "       [0.03482767, 0.96517233],\n",
       "       [0.8950408 , 0.1049592 ],\n",
       "       [0.68865112, 0.31134888],\n",
       "       [0.86509541, 0.13490459],\n",
       "       [0.09564956, 0.90435044],\n",
       "       [0.04422009, 0.95577991],\n",
       "       [0.58730775, 0.41269225],\n",
       "       [0.45425995, 0.54574005],\n",
       "       [0.96354832, 0.03645168],\n",
       "       [0.90509496, 0.09490504],\n",
       "       [0.90329333, 0.09670667],\n",
       "       [0.89756747, 0.10243253],\n",
       "       [0.68431016, 0.31568984],\n",
       "       [0.86981727, 0.13018273],\n",
       "       [0.77862032, 0.22137968],\n",
       "       [0.89041357, 0.10958643],\n",
       "       [0.72035505, 0.27964495],\n",
       "       [0.05909464, 0.94090536],\n",
       "       [0.9474384 , 0.0525616 ],\n",
       "       [0.4624614 , 0.5375386 ],\n",
       "       [0.89039426, 0.10960574],\n",
       "       [0.50953277, 0.49046723],\n",
       "       [0.75325965, 0.24674035],\n",
       "       [0.09289528, 0.90710472],\n",
       "       [0.50680137, 0.49319863],\n",
       "       [0.69934326, 0.30065674],\n",
       "       [0.41554625, 0.58445375],\n",
       "       [0.25491524, 0.74508476],\n",
       "       [0.89039426, 0.10960574],\n",
       "       [0.45850639, 0.54149361],\n",
       "       [0.96328097, 0.03671903],\n",
       "       [0.60484869, 0.39515131],\n",
       "       [0.29488007, 0.70511993],\n",
       "       [0.30586381, 0.69413619],\n",
       "       [0.86960156, 0.13039844],\n",
       "       [0.89039426, 0.10960574],\n",
       "       [0.85410235, 0.14589765],\n",
       "       [0.46850205, 0.53149795],\n",
       "       [0.66808447, 0.33191553],\n",
       "       [0.89041357, 0.10958643],\n",
       "       [0.48831775, 0.51168225],\n",
       "       [0.50848098, 0.49151902],\n",
       "       [0.21307184, 0.78692816],\n",
       "       [0.88098294, 0.11901706],\n",
       "       [0.77173084, 0.22826916],\n",
       "       [0.09377393, 0.90622607],\n",
       "       [0.07415981, 0.92584019],\n",
       "       [0.23739418, 0.76260582],\n",
       "       [0.87062855, 0.12937145],\n",
       "       [0.88472442, 0.11527558],\n",
       "       [0.09312011, 0.90687989],\n",
       "       [0.11458237, 0.88541763],\n",
       "       [0.5719754 , 0.4280246 ],\n",
       "       [0.93748522, 0.06251478],\n",
       "       [0.83504932, 0.16495068],\n",
       "       [0.73744786, 0.26255214],\n",
       "       [0.66335824, 0.33664176],\n",
       "       [0.51252845, 0.48747155],\n",
       "       [0.22201746, 0.77798254],\n",
       "       [0.83499924, 0.16500076],\n",
       "       [0.16141648, 0.83858352],\n",
       "       [0.61391943, 0.38608057],\n",
       "       [0.96180892, 0.03819108],\n",
       "       [0.893489  , 0.106511  ],\n",
       "       [0.09877205, 0.90122795],\n",
       "       [0.03527863, 0.96472137],\n",
       "       [0.70849943, 0.29150057],\n",
       "       [0.02180921, 0.97819079],\n",
       "       [0.31015891, 0.68984109],\n",
       "       [0.89483717, 0.10516283],\n",
       "       [0.59393513, 0.40606487],\n",
       "       [0.21686065, 0.78313935],\n",
       "       [0.8537889 , 0.1462111 ],\n",
       "       [0.92554938, 0.07445062],\n",
       "       [0.17717005, 0.82282995],\n",
       "       [0.42876744, 0.57123256],\n",
       "       [0.61107666, 0.38892334],\n",
       "       [0.04849668, 0.95150332],\n",
       "       [0.1203735 , 0.8796265 ],\n",
       "       [0.25491524, 0.74508476],\n",
       "       [0.82820157, 0.17179843],\n",
       "       [0.84582077, 0.15417923],\n",
       "       [0.94530364, 0.05469636],\n",
       "       [0.66808447, 0.33191553],\n",
       "       [0.88581195, 0.11418805],\n",
       "       [0.89039426, 0.10960574],\n",
       "       [0.91138397, 0.08861603],\n",
       "       [0.34634715, 0.65365285],\n",
       "       [0.87070742, 0.12929258],\n",
       "       [0.91872368, 0.08127632],\n",
       "       [0.88417752, 0.11582248],\n",
       "       [0.29951705, 0.70048295],\n",
       "       [0.89041357, 0.10958643],\n",
       "       [0.78047939, 0.21952061],\n",
       "       [0.81182612, 0.18817388],\n",
       "       [0.84582077, 0.15417923],\n",
       "       [0.88583791, 0.11416209],\n",
       "       [0.02471075, 0.97528925],\n",
       "       [0.47762046, 0.52237954],\n",
       "       [0.91507468, 0.08492532],\n",
       "       [0.92698898, 0.07301102],\n",
       "       [0.9476588 , 0.0523412 ],\n",
       "       [0.40204204, 0.59795796],\n",
       "       [0.03205608, 0.96794392],\n",
       "       [0.84693694, 0.15306306],\n",
       "       [0.86512974, 0.13487026],\n",
       "       [0.85931474, 0.14068526],\n",
       "       [0.31737225, 0.68262775],\n",
       "       [0.95632272, 0.04367728],\n",
       "       [0.09919444, 0.90080556],\n",
       "       [0.88768238, 0.11231762],\n",
       "       [0.89341747, 0.10658253],\n",
       "       [0.89657108, 0.10342892],\n",
       "       [0.74004865, 0.25995135],\n",
       "       [0.43502613, 0.56497387],\n",
       "       [0.91219656, 0.08780344],\n",
       "       [0.53699196, 0.46300804],\n",
       "       [0.05415253, 0.94584747],\n",
       "       [0.95820073, 0.04179927],\n",
       "       [0.88958378, 0.11041622],\n",
       "       [0.03889797, 0.96110203],\n",
       "       [0.06380289, 0.93619711],\n",
       "       [0.4624614 , 0.5375386 ],\n",
       "       [0.11684634, 0.88315366],\n",
       "       [0.25491524, 0.74508476],\n",
       "       [0.76476584, 0.23523416],\n",
       "       [0.17459002, 0.82540998],\n",
       "       [0.59212078, 0.40787922],\n",
       "       [0.85524694, 0.14475306],\n",
       "       [0.86981788, 0.13018212]])"
      ]
     },
     "execution_count": 30,
     "metadata": {},
     "output_type": "execute_result"
    }
   ],
   "source": [
    "# Loss function\n",
    "\n",
    "probs = model.predict_proba(X_test)\n",
    "probs"
   ]
  },
  {
   "cell_type": "code",
   "execution_count": 31,
   "id": "d874cf13",
   "metadata": {},
   "outputs": [
    {
     "data": {
      "text/plain": [
       "array([0.10071434, 0.96072732, 0.69961722, 0.26317384, 0.96517233,\n",
       "       0.1049592 , 0.31134888, 0.13490459, 0.90435044, 0.95577991,\n",
       "       0.41269225, 0.54574005, 0.03645168, 0.09490504, 0.09670667,\n",
       "       0.10243253, 0.31568984, 0.13018273, 0.22137968, 0.10958643,\n",
       "       0.27964495, 0.94090536, 0.0525616 , 0.5375386 , 0.10960574,\n",
       "       0.49046723, 0.24674035, 0.90710472, 0.49319863, 0.30065674,\n",
       "       0.58445375, 0.74508476, 0.10960574, 0.54149361, 0.03671903,\n",
       "       0.39515131, 0.70511993, 0.69413619, 0.13039844, 0.10960574,\n",
       "       0.14589765, 0.53149795, 0.33191553, 0.10958643, 0.51168225,\n",
       "       0.49151902, 0.78692816, 0.11901706, 0.22826916, 0.90622607,\n",
       "       0.92584019, 0.76260582, 0.12937145, 0.11527558, 0.90687989,\n",
       "       0.88541763, 0.4280246 , 0.06251478, 0.16495068, 0.26255214,\n",
       "       0.33664176, 0.48747155, 0.77798254, 0.16500076, 0.83858352,\n",
       "       0.38608057, 0.03819108, 0.106511  , 0.90122795, 0.96472137,\n",
       "       0.29150057, 0.97819079, 0.68984109, 0.10516283, 0.40606487,\n",
       "       0.78313935, 0.1462111 , 0.07445062, 0.82282995, 0.57123256,\n",
       "       0.38892334, 0.95150332, 0.8796265 , 0.74508476, 0.17179843,\n",
       "       0.15417923, 0.05469636, 0.33191553, 0.11418805, 0.10960574,\n",
       "       0.08861603, 0.65365285, 0.12929258, 0.08127632, 0.11582248,\n",
       "       0.70048295, 0.10958643, 0.21952061, 0.18817388, 0.15417923,\n",
       "       0.11416209, 0.97528925, 0.52237954, 0.08492532, 0.07301102,\n",
       "       0.0523412 , 0.59795796, 0.96794392, 0.15306306, 0.13487026,\n",
       "       0.14068526, 0.68262775, 0.04367728, 0.90080556, 0.11231762,\n",
       "       0.10658253, 0.10342892, 0.25995135, 0.56497387, 0.08780344,\n",
       "       0.46300804, 0.94584747, 0.04179927, 0.11041622, 0.96110203,\n",
       "       0.93619711, 0.5375386 , 0.88315366, 0.74508476, 0.23523416,\n",
       "       0.82540998, 0.40787922, 0.14475306, 0.13018212])"
      ]
     },
     "execution_count": 31,
     "metadata": {},
     "output_type": "execute_result"
    }
   ],
   "source": [
    "probs_1 = probs[:, 1]\n",
    "\n",
    "probs_1"
   ]
  },
  {
   "cell_type": "code",
   "execution_count": 32,
   "id": "7c9eeb89",
   "metadata": {},
   "outputs": [
    {
     "data": {
      "text/plain": [
       "array([0.96072732, 0.69961722, 0.96517233, 0.90435044, 0.95577991,\n",
       "       0.54574005, 0.94090536, 0.5375386 , 0.90710472, 0.58445375,\n",
       "       0.74508476, 0.54149361, 0.70511993, 0.69413619, 0.53149795,\n",
       "       0.51168225, 0.78692816, 0.90622607, 0.92584019, 0.76260582,\n",
       "       0.90687989, 0.88541763, 0.77798254, 0.83858352, 0.90122795,\n",
       "       0.96472137, 0.97819079, 0.68984109, 0.78313935, 0.82282995,\n",
       "       0.57123256, 0.95150332, 0.8796265 , 0.74508476, 0.65365285,\n",
       "       0.70048295, 0.97528925, 0.52237954, 0.59795796, 0.96794392,\n",
       "       0.68262775, 0.90080556, 0.56497387, 0.94584747, 0.96110203,\n",
       "       0.93619711, 0.5375386 , 0.88315366, 0.74508476, 0.82540998])"
      ]
     },
     "execution_count": 32,
     "metadata": {},
     "output_type": "execute_result"
    }
   ],
   "source": [
    "condition = probs_1 > 0.5\n",
    "# pbobability of survival for surviving group\n",
    "probs_1[condition]\n"
   ]
  },
  {
   "cell_type": "code",
   "execution_count": 33,
   "id": "5d37ecca",
   "metadata": {},
   "outputs": [
    {
     "data": {
      "text/plain": [
       "array([0.10071434, 0.26317384, 0.1049592 , 0.31134888, 0.13490459,\n",
       "       0.41269225, 0.03645168, 0.09490504, 0.09670667, 0.10243253,\n",
       "       0.31568984, 0.13018273, 0.22137968, 0.10958643, 0.27964495,\n",
       "       0.0525616 , 0.10960574, 0.49046723, 0.24674035, 0.49319863,\n",
       "       0.30065674, 0.10960574, 0.03671903, 0.39515131, 0.13039844,\n",
       "       0.10960574, 0.14589765, 0.33191553, 0.10958643, 0.49151902,\n",
       "       0.11901706, 0.22826916, 0.12937145, 0.11527558, 0.4280246 ,\n",
       "       0.06251478, 0.16495068, 0.26255214, 0.33664176, 0.48747155,\n",
       "       0.16500076, 0.38608057, 0.03819108, 0.106511  , 0.29150057,\n",
       "       0.10516283, 0.40606487, 0.1462111 , 0.07445062, 0.38892334,\n",
       "       0.17179843, 0.15417923, 0.05469636, 0.33191553, 0.11418805,\n",
       "       0.10960574, 0.08861603, 0.12929258, 0.08127632, 0.11582248,\n",
       "       0.10958643, 0.21952061, 0.18817388, 0.15417923, 0.11416209,\n",
       "       0.08492532, 0.07301102, 0.0523412 , 0.15306306, 0.13487026,\n",
       "       0.14068526, 0.04367728, 0.11231762, 0.10658253, 0.10342892,\n",
       "       0.25995135, 0.08780344, 0.46300804, 0.04179927, 0.11041622,\n",
       "       0.23523416, 0.40787922, 0.14475306, 0.13018212])"
      ]
     },
     "execution_count": 33,
     "metadata": {},
     "output_type": "execute_result"
    }
   ],
   "source": [
    "# probability of survival for non-surviving group\n",
    "# ~ - negation\n",
    "\n",
    "probs_1[~condition]"
   ]
  },
  {
   "cell_type": "code",
   "execution_count": 34,
   "id": "b5113047",
   "metadata": {},
   "outputs": [
    {
     "data": {
      "text/plain": [
       "array([0.89928566, 0.73682616, 0.8950408 , 0.68865112, 0.86509541,\n",
       "       0.58730775, 0.96354832, 0.90509496, 0.90329333, 0.89756747,\n",
       "       0.68431016, 0.86981727, 0.77862032, 0.89041357, 0.72035505,\n",
       "       0.9474384 , 0.89039426, 0.50953277, 0.75325965, 0.50680137,\n",
       "       0.69934326, 0.89039426, 0.96328097, 0.60484869, 0.86960156,\n",
       "       0.89039426, 0.85410235, 0.66808447, 0.89041357, 0.50848098,\n",
       "       0.88098294, 0.77173084, 0.87062855, 0.88472442, 0.5719754 ,\n",
       "       0.93748522, 0.83504932, 0.73744786, 0.66335824, 0.51252845,\n",
       "       0.83499924, 0.61391943, 0.96180892, 0.893489  , 0.70849943,\n",
       "       0.89483717, 0.59393513, 0.8537889 , 0.92554938, 0.61107666,\n",
       "       0.82820157, 0.84582077, 0.94530364, 0.66808447, 0.88581195,\n",
       "       0.89039426, 0.91138397, 0.87070742, 0.91872368, 0.88417752,\n",
       "       0.89041357, 0.78047939, 0.81182612, 0.84582077, 0.88583791,\n",
       "       0.91507468, 0.92698898, 0.9476588 , 0.84693694, 0.86512974,\n",
       "       0.85931474, 0.95632272, 0.88768238, 0.89341747, 0.89657108,\n",
       "       0.74004865, 0.91219656, 0.53699196, 0.95820073, 0.88958378,\n",
       "       0.76476584, 0.59212078, 0.85524694, 0.86981788])"
      ]
     },
     "execution_count": 34,
     "metadata": {},
     "output_type": "execute_result"
    }
   ],
   "source": [
    "# pfrobability of non-survival for non-surviving group\n",
    "1 - probs_1[~condition]"
   ]
  },
  {
   "cell_type": "code",
   "execution_count": 35,
   "id": "94181cc3",
   "metadata": {},
   "outputs": [
    {
     "data": {
      "text/plain": [
       "np.float64(1.5201684534966957e-14)"
      ]
     },
     "execution_count": 35,
     "metadata": {},
     "output_type": "execute_result"
    }
   ],
   "source": [
    "# probability of survival for survinvg group * probability of non-survival for non-surviving group\n",
    "(np.prod(probs_1[condition])) * (np.prod(1 - probs_1[~condition]))"
   ]
  },
  {
   "cell_type": "code",
   "execution_count": 36,
   "id": "d1968e1d",
   "metadata": {},
   "outputs": [
    {
     "data": {
      "text/plain": [
       "np.float64(31.817370148530177)"
      ]
     },
     "execution_count": 36,
     "metadata": {},
     "output_type": "execute_result"
    }
   ],
   "source": [
    "-(np.sum(np.log(probs_1[condition])) + np.sum(np.log(1 - probs_1[~condition])))"
   ]
  },
  {
   "cell_type": "code",
   "execution_count": 37,
   "id": "734259f1",
   "metadata": {},
   "outputs": [
    {
     "data": {
      "text/plain": [
       "array([0, 1, 1, 0, 1, 1, 0, 0, 1, 1, 0, 1, 0, 0, 0, 0, 0, 0, 0, 0, 0, 1,\n",
       "       0, 0, 0, 0, 0, 1, 0, 0, 1, 1, 0, 0, 0, 0, 1, 1, 0, 0, 0, 0, 0, 0,\n",
       "       1, 1, 0, 0, 0, 1, 1, 1, 0, 0, 1, 1, 0, 0, 0, 0, 1, 0, 1, 0, 1, 0,\n",
       "       0, 0, 1, 1, 0, 0, 0, 1, 1, 1, 0, 0, 0, 0, 0, 1, 1, 1, 0, 0, 0, 0,\n",
       "       0, 0, 1, 0, 0, 0, 0, 0, 0, 0, 1, 0, 0, 1, 0, 0, 1, 0, 1, 1, 1, 0,\n",
       "       0, 1, 0, 1, 0, 0, 0, 0, 1, 0, 1, 1, 0, 0, 1, 1, 0, 1, 0, 0, 1, 0,\n",
       "       0, 0])"
      ]
     },
     "execution_count": 37,
     "metadata": {},
     "output_type": "execute_result"
    }
   ],
   "source": [
    "y_test_array = y_test.to_numpy()\n",
    "y_test_array"
   ]
  },
  {
   "cell_type": "code",
   "execution_count": 38,
   "id": "4f281b5e",
   "metadata": {},
   "outputs": [
    {
     "data": {
      "text/plain": [
       "np.float64(56.359244266121074)"
      ]
     },
     "execution_count": 38,
     "metadata": {},
     "output_type": "execute_result"
    }
   ],
   "source": [
    "# rewrite the formula\n",
    "-np.sum(y_test_array * np.log(probs)[:,1] + (1 - y_test_array) * (np.log(1 - (probs)[:,1])))"
   ]
  },
  {
   "cell_type": "code",
   "execution_count": 39,
   "id": "d5e65ee8",
   "metadata": {},
   "outputs": [
    {
     "data": {
      "text/plain": [
       "np.float64(0.42059137512030653)"
      ]
     },
     "execution_count": 39,
     "metadata": {},
     "output_type": "execute_result"
    }
   ],
   "source": [
    "-np.sum(y_test_array * np.log(probs)[:,1] + (1 - y_test_array) * np.log(probs)[:,0]) / len(probs) # normalized\n"
   ]
  },
  {
   "cell_type": "code",
   "execution_count": 40,
   "id": "2d5479ef",
   "metadata": {},
   "outputs": [
    {
     "data": {
      "text/plain": [
       "0.42059137512030653"
      ]
     },
     "execution_count": 40,
     "metadata": {},
     "output_type": "execute_result"
    }
   ],
   "source": [
    "from sklearn.metrics import log_loss\n",
    "log_loss(y_test, probs) # , normalize=False"
   ]
  },
  {
   "cell_type": "code",
   "execution_count": 41,
   "id": "9df01cb4",
   "metadata": {},
   "outputs": [
    {
     "data": {
      "text/plain": [
       "array([3.29546705, 0.        , 0.        , 2.33494048, 0.        ,\n",
       "       0.        , 2.16684119, 3.00318752, 0.        , 0.        ,\n",
       "       1.88505311, 0.        , 4.31176772, 3.35487843, 3.33607295,\n",
       "       3.27855095, 2.15299507, 3.0388162 , 2.50787603, 3.21104176,\n",
       "       2.27423452, 0.        , 3.94576945, 1.62075471, 3.21086555,\n",
       "       1.71239682, 2.39941873, 0.        , 1.70684329, 2.20178608,\n",
       "       0.        , 0.        , 3.21086555, 1.61342401, 4.30446006,\n",
       "       1.92848652, 0.        , 0.        , 3.03716056, 3.21086555,\n",
       "       2.92484996, 1.63205593, 2.10287477, 3.21104176, 0.        ,\n",
       "       0.        , 1.23961832, 3.12848844, 2.47722982, 0.        ,\n",
       "       0.        , 0.        , 3.04506753, 3.1604297 , 0.        ,\n",
       "       0.        , 1.84857461, 3.77235221, 2.80210878, 2.33730558,\n",
       "       0.        , 1.71852334, 0.        , 2.80180518, 0.        ,\n",
       "       1.9517092 , 4.26515325, 3.23950703, 0.        , 0.        ,\n",
       "       2.23271332, 1.02205055, 1.37129401, 0.        , 0.        ,\n",
       "       0.        , 2.92270384, 3.59761924, 1.19500572, 1.55995887,\n",
       "       1.94437302, 0.        , 0.        , 0.        , 2.76143339,\n",
       "       2.86963953, 3.90595817, 2.10287477, 3.16990864, 3.21086555,\n",
       "       0.        , 1.42517888, 3.04567742, 3.50990052, 3.1556966 ,\n",
       "       1.35598525, 3.21104176, 2.51630913, 0.        , 2.86963953,\n",
       "       3.17013601, 0.        , 1.64936087, 3.46598295, 0.        ,\n",
       "       3.94997144, 0.        , 0.        , 0.        , 3.003442  ,\n",
       "       2.96123012, 0.        , 4.13092718, 0.        , 3.18642452,\n",
       "       3.23883564, 3.26887064, 2.34726077, 0.        , 3.4326546 ,\n",
       "       0.        , 0.        , 4.17487645, 3.20349826, 0.        ,\n",
       "       0.        , 1.62075471, 0.        , 1.29425729, 2.44717382,\n",
       "       0.        , 1.89678417, 2.93272601, 3.03882089])"
      ]
     },
     "execution_count": 41,
     "metadata": {},
     "output_type": "execute_result"
    }
   ],
   "source": [
    "(1 - y_test.to_numpy())*(1-np.log(probs)[:,1])"
   ]
  },
  {
   "cell_type": "markdown",
   "id": "b0f0306c",
   "metadata": {},
   "source": [
    "# Other classification models"
   ]
  },
  {
   "cell_type": "code",
   "execution_count": 42,
   "id": "7b629103",
   "metadata": {},
   "outputs": [
    {
     "data": {
      "text/plain": [
       "62.38"
      ]
     },
     "execution_count": 42,
     "metadata": {},
     "output_type": "execute_result"
    }
   ],
   "source": [
    "# Stochastic Gradient Descent\n",
    "\n",
    "sgd = SGDClassifier(loss='log_loss') # Logistic Regression\n",
    "sgd.fit(X_train, y_train)\n",
    "Y_pred = sgd.predict(X_test)\n",
    "acc_sgd = round(sgd.score(X_train, y_train)*100, 2)\n",
    "acc_sgd\n",
    "# score - відсоток правильних відповідей классифікатора SGD"
   ]
  },
  {
   "cell_type": "code",
   "execution_count": null,
   "id": "8d49fac0",
   "metadata": {},
   "outputs": [
    {
     "data": {
      "text/plain": [
       "11.849589449658549"
      ]
     },
     "execution_count": 43,
     "metadata": {},
     "output_type": "execute_result"
    }
   ],
   "source": [
    "# Логістична похибка\n",
    "\n",
    "probs_sgd = sgd.predict_proba(X_test)\n",
    "log_loss(y_test, probs_sgd)"
   ]
  },
  {
   "cell_type": "code",
   "execution_count": 44,
   "id": "d561f213",
   "metadata": {},
   "outputs": [
    {
     "data": {
      "text/plain": [
       "array([1.00100100e-02, 2.00200200e-02, 4.00400400e-02, 6.00600601e-02,\n",
       "       8.00800801e-02, 1.00100100e-01, 1.20120120e-01, 1.40140140e-01,\n",
       "       1.60160160e-01, 1.80180180e-01, 2.00200200e-01, 2.20220220e-01,\n",
       "       2.40240240e-01, 2.60260260e-01, 2.80280280e-01, 3.00300300e-01,\n",
       "       3.20320320e-01, 3.40340340e-01, 3.60360360e-01, 3.80380380e-01,\n",
       "       4.00400400e-01, 4.20420420e-01, 4.40440440e-01, 4.60460460e-01,\n",
       "       4.80480480e-01, 5.00500501e-01, 5.20520521e-01, 5.40540541e-01,\n",
       "       5.60560561e-01, 5.80580581e-01, 6.00600601e-01, 6.20620621e-01,\n",
       "       6.40640641e-01, 6.60660661e-01, 6.80680681e-01, 7.00700701e-01,\n",
       "       7.20720721e-01, 7.40740741e-01, 7.60760761e-01, 7.80780781e-01,\n",
       "       8.00800801e-01, 8.20820821e-01, 8.40840841e-01, 8.60860861e-01,\n",
       "       8.80880881e-01, 9.00900901e-01, 9.20920921e-01, 9.40940941e-01,\n",
       "       9.60960961e-01, 9.80980981e-01, 1.00100100e+00, 1.02102102e+00,\n",
       "       1.04104104e+00, 1.06106106e+00, 1.08108108e+00, 1.10110110e+00,\n",
       "       1.12112112e+00, 1.14114114e+00, 1.16116116e+00, 1.18118118e+00,\n",
       "       1.20120120e+00, 1.22122122e+00, 1.24124124e+00, 1.26126126e+00,\n",
       "       1.28128128e+00, 1.30130130e+00, 1.32132132e+00, 1.34134134e+00,\n",
       "       1.36136136e+00, 1.38138138e+00, 1.40140140e+00, 1.42142142e+00,\n",
       "       1.44144144e+00, 1.46146146e+00, 1.48148148e+00, 1.50150150e+00,\n",
       "       1.52152152e+00, 1.54154154e+00, 1.56156156e+00, 1.58158158e+00,\n",
       "       1.60160160e+00, 1.62162162e+00, 1.64164164e+00, 1.66166166e+00,\n",
       "       1.68168168e+00, 1.70170170e+00, 1.72172172e+00, 1.74174174e+00,\n",
       "       1.76176176e+00, 1.78178178e+00, 1.80180180e+00, 1.82182182e+00,\n",
       "       1.84184184e+00, 1.86186186e+00, 1.88188188e+00, 1.90190190e+00,\n",
       "       1.92192192e+00, 1.94194194e+00, 1.96196196e+00, 1.98198198e+00,\n",
       "       2.00200200e+00, 2.02202202e+00, 2.04204204e+00, 2.06206206e+00,\n",
       "       2.08208208e+00, 2.10210210e+00, 2.12212212e+00, 2.14214214e+00,\n",
       "       2.16216216e+00, 2.18218218e+00, 2.20220220e+00, 2.22222222e+00,\n",
       "       2.24224224e+00, 2.26226226e+00, 2.28228228e+00, 2.30230230e+00,\n",
       "       2.32232232e+00, 2.34234234e+00, 2.36236236e+00, 2.38238238e+00,\n",
       "       2.40240240e+00, 2.42242242e+00, 2.44244244e+00, 2.46246246e+00,\n",
       "       2.48248248e+00, 2.50250250e+00, 2.52252252e+00, 2.54254254e+00,\n",
       "       2.56256256e+00, 2.58258258e+00, 2.60260260e+00, 2.62262262e+00,\n",
       "       2.64264264e+00, 2.66266266e+00, 2.68268268e+00, 2.70270270e+00,\n",
       "       2.72272272e+00, 2.74274274e+00, 2.76276276e+00, 2.78278278e+00,\n",
       "       2.80280280e+00, 2.82282282e+00, 2.84284284e+00, 2.86286286e+00,\n",
       "       2.88288288e+00, 2.90290290e+00, 2.92292292e+00, 2.94294294e+00,\n",
       "       2.96296296e+00, 2.98298298e+00, 3.00300300e+00, 3.02302302e+00,\n",
       "       3.04304304e+00, 3.06306306e+00, 3.08308308e+00, 3.10310310e+00,\n",
       "       3.12312312e+00, 3.14314314e+00, 3.16316316e+00, 3.18318318e+00,\n",
       "       3.20320320e+00, 3.22322322e+00, 3.24324324e+00, 3.26326326e+00,\n",
       "       3.28328328e+00, 3.30330330e+00, 3.32332332e+00, 3.34334334e+00,\n",
       "       3.36336336e+00, 3.38338338e+00, 3.40340340e+00, 3.42342342e+00,\n",
       "       3.44344344e+00, 3.46346346e+00, 3.48348348e+00, 3.50350350e+00,\n",
       "       3.52352352e+00, 3.54354354e+00, 3.56356356e+00, 3.58358358e+00,\n",
       "       3.60360360e+00, 3.62362362e+00, 3.64364364e+00, 3.66366366e+00,\n",
       "       3.68368368e+00, 3.70370370e+00, 3.72372372e+00, 3.74374374e+00,\n",
       "       3.76376376e+00, 3.78378378e+00, 3.80380380e+00, 3.82382382e+00,\n",
       "       3.84384384e+00, 3.86386386e+00, 3.88388388e+00, 3.90390390e+00,\n",
       "       3.92392392e+00, 3.94394394e+00, 3.96396396e+00, 3.98398398e+00,\n",
       "       4.00400400e+00, 4.02402402e+00, 4.04404404e+00, 4.06406406e+00,\n",
       "       4.08408408e+00, 4.10410410e+00, 4.12412412e+00, 4.14414414e+00,\n",
       "       4.16416416e+00, 4.18418418e+00, 4.20420420e+00, 4.22422422e+00,\n",
       "       4.24424424e+00, 4.26426426e+00, 4.28428428e+00, 4.30430430e+00,\n",
       "       4.32432432e+00, 4.34434434e+00, 4.36436436e+00, 4.38438438e+00,\n",
       "       4.40440440e+00, 4.42442442e+00, 4.44444444e+00, 4.46446446e+00,\n",
       "       4.48448448e+00, 4.50450450e+00, 4.52452452e+00, 4.54454454e+00,\n",
       "       4.56456456e+00, 4.58458458e+00, 4.60460460e+00, 4.62462462e+00,\n",
       "       4.64464464e+00, 4.66466466e+00, 4.68468468e+00, 4.70470470e+00,\n",
       "       4.72472472e+00, 4.74474474e+00, 4.76476476e+00, 4.78478478e+00,\n",
       "       4.80480480e+00, 4.82482482e+00, 4.84484484e+00, 4.86486486e+00,\n",
       "       4.88488488e+00, 4.90490490e+00, 4.92492492e+00, 4.94494494e+00,\n",
       "       4.96496496e+00, 4.98498498e+00, 5.00500501e+00, 5.02502503e+00,\n",
       "       5.04504505e+00, 5.06506507e+00, 5.08508509e+00, 5.10510511e+00,\n",
       "       5.12512513e+00, 5.14514515e+00, 5.16516517e+00, 5.18518519e+00,\n",
       "       5.20520521e+00, 5.22522523e+00, 5.24524525e+00, 5.26526527e+00,\n",
       "       5.28528529e+00, 5.30530531e+00, 5.32532533e+00, 5.34534535e+00,\n",
       "       5.36536537e+00, 5.38538539e+00, 5.40540541e+00, 5.42542543e+00,\n",
       "       5.44544545e+00, 5.46546547e+00, 5.48548549e+00, 5.50550551e+00,\n",
       "       5.52552553e+00, 5.54554555e+00, 5.56556557e+00, 5.58558559e+00,\n",
       "       5.60560561e+00, 5.62562563e+00, 5.64564565e+00, 5.66566567e+00,\n",
       "       5.68568569e+00, 5.70570571e+00, 5.72572573e+00, 5.74574575e+00,\n",
       "       5.76576577e+00, 5.78578579e+00, 5.80580581e+00, 5.82582583e+00,\n",
       "       5.84584585e+00, 5.86586587e+00, 5.88588589e+00, 5.90590591e+00,\n",
       "       5.92592593e+00, 5.94594595e+00, 5.96596597e+00, 5.98598599e+00,\n",
       "       6.00600601e+00, 6.02602603e+00, 6.04604605e+00, 6.06606607e+00,\n",
       "       6.08608609e+00, 6.10610611e+00, 6.12612613e+00, 6.14614615e+00,\n",
       "       6.16616617e+00, 6.18618619e+00, 6.20620621e+00, 6.22622623e+00,\n",
       "       6.24624625e+00, 6.26626627e+00, 6.28628629e+00, 6.30630631e+00,\n",
       "       6.32632633e+00, 6.34634635e+00, 6.36636637e+00, 6.38638639e+00,\n",
       "       6.40640641e+00, 6.42642643e+00, 6.44644645e+00, 6.46646647e+00,\n",
       "       6.48648649e+00, 6.50650651e+00, 6.52652653e+00, 6.54654655e+00,\n",
       "       6.56656657e+00, 6.58658659e+00, 6.60660661e+00, 6.62662663e+00,\n",
       "       6.64664665e+00, 6.66666667e+00, 6.68668669e+00, 6.70670671e+00,\n",
       "       6.72672673e+00, 6.74674675e+00, 6.76676677e+00, 6.78678679e+00,\n",
       "       6.80680681e+00, 6.82682683e+00, 6.84684685e+00, 6.86686687e+00,\n",
       "       6.88688689e+00, 6.90690691e+00, 6.92692693e+00, 6.94694695e+00,\n",
       "       6.96696697e+00, 6.98698699e+00, 7.00700701e+00, 7.02702703e+00,\n",
       "       7.04704705e+00, 7.06706707e+00, 7.08708709e+00, 7.10710711e+00,\n",
       "       7.12712713e+00, 7.14714715e+00, 7.16716717e+00, 7.18718719e+00,\n",
       "       7.20720721e+00, 7.22722723e+00, 7.24724725e+00, 7.26726727e+00,\n",
       "       7.28728729e+00, 7.30730731e+00, 7.32732733e+00, 7.34734735e+00,\n",
       "       7.36736737e+00, 7.38738739e+00, 7.40740741e+00, 7.42742743e+00,\n",
       "       7.44744745e+00, 7.46746747e+00, 7.48748749e+00, 7.50750751e+00,\n",
       "       7.52752753e+00, 7.54754755e+00, 7.56756757e+00, 7.58758759e+00,\n",
       "       7.60760761e+00, 7.62762763e+00, 7.64764765e+00, 7.66766767e+00,\n",
       "       7.68768769e+00, 7.70770771e+00, 7.72772773e+00, 7.74774775e+00,\n",
       "       7.76776777e+00, 7.78778779e+00, 7.80780781e+00, 7.82782783e+00,\n",
       "       7.84784785e+00, 7.86786787e+00, 7.88788789e+00, 7.90790791e+00,\n",
       "       7.92792793e+00, 7.94794795e+00, 7.96796797e+00, 7.98798799e+00,\n",
       "       8.00800801e+00, 8.02802803e+00, 8.04804805e+00, 8.06806807e+00,\n",
       "       8.08808809e+00, 8.10810811e+00, 8.12812813e+00, 8.14814815e+00,\n",
       "       8.16816817e+00, 8.18818819e+00, 8.20820821e+00, 8.22822823e+00,\n",
       "       8.24824825e+00, 8.26826827e+00, 8.28828829e+00, 8.30830831e+00,\n",
       "       8.32832833e+00, 8.34834835e+00, 8.36836837e+00, 8.38838839e+00,\n",
       "       8.40840841e+00, 8.42842843e+00, 8.44844845e+00, 8.46846847e+00,\n",
       "       8.48848849e+00, 8.50850851e+00, 8.52852853e+00, 8.54854855e+00,\n",
       "       8.56856857e+00, 8.58858859e+00, 8.60860861e+00, 8.62862863e+00,\n",
       "       8.64864865e+00, 8.66866867e+00, 8.68868869e+00, 8.70870871e+00,\n",
       "       8.72872873e+00, 8.74874875e+00, 8.76876877e+00, 8.78878879e+00,\n",
       "       8.80880881e+00, 8.82882883e+00, 8.84884885e+00, 8.86886887e+00,\n",
       "       8.88888889e+00, 8.90890891e+00, 8.92892893e+00, 8.94894895e+00,\n",
       "       8.96896897e+00, 8.98898899e+00, 9.00900901e+00, 9.02902903e+00,\n",
       "       9.04904905e+00, 9.06906907e+00, 9.08908909e+00, 9.10910911e+00,\n",
       "       9.12912913e+00, 9.14914915e+00, 9.16916917e+00, 9.18918919e+00,\n",
       "       9.20920921e+00, 9.22922923e+00, 9.24924925e+00, 9.26926927e+00,\n",
       "       9.28928929e+00, 9.30930931e+00, 9.32932933e+00, 9.34934935e+00,\n",
       "       9.36936937e+00, 9.38938939e+00, 9.40940941e+00, 9.42942943e+00,\n",
       "       9.44944945e+00, 9.46946947e+00, 9.48948949e+00, 9.50950951e+00,\n",
       "       9.52952953e+00, 9.54954955e+00, 9.56956957e+00, 9.58958959e+00,\n",
       "       9.60960961e+00, 9.62962963e+00, 9.64964965e+00, 9.66966967e+00,\n",
       "       9.68968969e+00, 9.70970971e+00, 9.72972973e+00, 9.74974975e+00,\n",
       "       9.76976977e+00, 9.78978979e+00, 9.80980981e+00, 9.82982983e+00,\n",
       "       9.84984985e+00, 9.86986987e+00, 9.88988989e+00, 9.90990991e+00,\n",
       "       9.92992993e+00, 9.94994995e+00, 9.96996997e+00, 9.98998999e+00,\n",
       "       1.00100100e+01, 1.00300300e+01, 1.00500501e+01, 1.00700701e+01,\n",
       "       1.00900901e+01, 1.01101101e+01, 1.01301301e+01, 1.01501502e+01,\n",
       "       1.01701702e+01, 1.01901902e+01, 1.02102102e+01, 1.02302302e+01,\n",
       "       1.02502503e+01, 1.02702703e+01, 1.02902903e+01, 1.03103103e+01,\n",
       "       1.03303303e+01, 1.03503504e+01, 1.03703704e+01, 1.03903904e+01,\n",
       "       1.04104104e+01, 1.04304304e+01, 1.04504505e+01, 1.04704705e+01,\n",
       "       1.04904905e+01, 1.05105105e+01, 1.05305305e+01, 1.05505506e+01,\n",
       "       1.05705706e+01, 1.05905906e+01, 1.06106106e+01, 1.06306306e+01,\n",
       "       1.06506507e+01, 1.06706707e+01, 1.06906907e+01, 1.07107107e+01,\n",
       "       1.07307307e+01, 1.07507508e+01, 1.07707708e+01, 1.07907908e+01,\n",
       "       1.08108108e+01, 1.08308308e+01, 1.08508509e+01, 1.08708709e+01,\n",
       "       1.08908909e+01, 1.09109109e+01, 1.09309309e+01, 1.09509510e+01,\n",
       "       1.09709710e+01, 1.09909910e+01, 1.10110110e+01, 1.10310310e+01,\n",
       "       1.10510511e+01, 1.10710711e+01, 1.10910911e+01, 1.11111111e+01,\n",
       "       1.11311311e+01, 1.11511512e+01, 1.11711712e+01, 1.11911912e+01,\n",
       "       1.12112112e+01, 1.12312312e+01, 1.12512513e+01, 1.12712713e+01,\n",
       "       1.12912913e+01, 1.13113113e+01, 1.13313313e+01, 1.13513514e+01,\n",
       "       1.13713714e+01, 1.13913914e+01, 1.14114114e+01, 1.14314314e+01,\n",
       "       1.14514515e+01, 1.14714715e+01, 1.14914915e+01, 1.15115115e+01,\n",
       "       1.15315315e+01, 1.15515516e+01, 1.15715716e+01, 1.15915916e+01,\n",
       "       1.16116116e+01, 1.16316316e+01, 1.16516517e+01, 1.16716717e+01,\n",
       "       1.16916917e+01, 1.17117117e+01, 1.17317317e+01, 1.17517518e+01,\n",
       "       1.17717718e+01, 1.17917918e+01, 1.18118118e+01, 1.18318318e+01,\n",
       "       1.18518519e+01, 1.18718719e+01, 1.18918919e+01, 1.19119119e+01,\n",
       "       1.19319319e+01, 1.19519520e+01, 1.19719720e+01, 1.19919920e+01,\n",
       "       1.20120120e+01, 1.20320320e+01, 1.20520521e+01, 1.20720721e+01,\n",
       "       1.20920921e+01, 1.21121121e+01, 1.21321321e+01, 1.21521522e+01,\n",
       "       1.21721722e+01, 1.21921922e+01, 1.22122122e+01, 1.22322322e+01,\n",
       "       1.22522523e+01, 1.22722723e+01, 1.22922923e+01, 1.23123123e+01,\n",
       "       1.23323323e+01, 1.23523524e+01, 1.23723724e+01, 1.23923924e+01,\n",
       "       1.24124124e+01, 1.24324324e+01, 1.24524525e+01, 1.24724725e+01,\n",
       "       1.24924925e+01, 1.25125125e+01, 1.25325325e+01, 1.25525526e+01,\n",
       "       1.25725726e+01, 1.25925926e+01, 1.26126126e+01, 1.26326326e+01,\n",
       "       1.26526527e+01, 1.26726727e+01, 1.26926927e+01, 1.27127127e+01,\n",
       "       1.27327327e+01, 1.27527528e+01, 1.27727728e+01, 1.27927928e+01,\n",
       "       1.28128128e+01, 1.28328328e+01, 1.28528529e+01, 1.28728729e+01,\n",
       "       1.28928929e+01, 1.29129129e+01, 1.29329329e+01, 1.29529530e+01,\n",
       "       1.29729730e+01, 1.29929930e+01, 1.30130130e+01, 1.30330330e+01,\n",
       "       1.30530531e+01, 1.30730731e+01, 1.30930931e+01, 1.31131131e+01,\n",
       "       1.31331331e+01, 1.31531532e+01, 1.31731732e+01, 1.31931932e+01,\n",
       "       1.32132132e+01, 1.32332332e+01, 1.32532533e+01, 1.32732733e+01,\n",
       "       1.32932933e+01, 1.33133133e+01, 1.33333333e+01, 1.33533534e+01,\n",
       "       1.33733734e+01, 1.33933934e+01, 1.34134134e+01, 1.34334334e+01,\n",
       "       1.34534535e+01, 1.34734735e+01, 1.34934935e+01, 1.35135135e+01,\n",
       "       1.35335335e+01, 1.35535536e+01, 1.35735736e+01, 1.35935936e+01,\n",
       "       1.36136136e+01, 1.36336336e+01, 1.36536537e+01, 1.36736737e+01,\n",
       "       1.36936937e+01, 1.37137137e+01, 1.37337337e+01, 1.37537538e+01,\n",
       "       1.37737738e+01, 1.37937938e+01, 1.38138138e+01, 1.38338338e+01,\n",
       "       1.38538539e+01, 1.38738739e+01, 1.38938939e+01, 1.39139139e+01,\n",
       "       1.39339339e+01, 1.39539540e+01, 1.39739740e+01, 1.39939940e+01,\n",
       "       1.40140140e+01, 1.40340340e+01, 1.40540541e+01, 1.40740741e+01,\n",
       "       1.40940941e+01, 1.41141141e+01, 1.41341341e+01, 1.41541542e+01,\n",
       "       1.41741742e+01, 1.41941942e+01, 1.42142142e+01, 1.42342342e+01,\n",
       "       1.42542543e+01, 1.42742743e+01, 1.42942943e+01, 1.43143143e+01,\n",
       "       1.43343343e+01, 1.43543544e+01, 1.43743744e+01, 1.43943944e+01,\n",
       "       1.44144144e+01, 1.44344344e+01, 1.44544545e+01, 1.44744745e+01,\n",
       "       1.44944945e+01, 1.45145145e+01, 1.45345345e+01, 1.45545546e+01,\n",
       "       1.45745746e+01, 1.45945946e+01, 1.46146146e+01, 1.46346346e+01,\n",
       "       1.46546547e+01, 1.46746747e+01, 1.46946947e+01, 1.47147147e+01,\n",
       "       1.47347347e+01, 1.47547548e+01, 1.47747748e+01, 1.47947948e+01,\n",
       "       1.48148148e+01, 1.48348348e+01, 1.48548549e+01, 1.48748749e+01,\n",
       "       1.48948949e+01, 1.49149149e+01, 1.49349349e+01, 1.49549550e+01,\n",
       "       1.49749750e+01, 1.49949950e+01, 1.50150150e+01, 1.50350350e+01,\n",
       "       1.50550551e+01, 1.50750751e+01, 1.50950951e+01, 1.51151151e+01,\n",
       "       1.51351351e+01, 1.51551552e+01, 1.51751752e+01, 1.51951952e+01,\n",
       "       1.52152152e+01, 1.52352352e+01, 1.52552553e+01, 1.52752753e+01,\n",
       "       1.52952953e+01, 1.53153153e+01, 1.53353353e+01, 1.53553554e+01,\n",
       "       1.53753754e+01, 1.53953954e+01, 1.54154154e+01, 1.54354354e+01,\n",
       "       1.54554555e+01, 1.54754755e+01, 1.54954955e+01, 1.55155155e+01,\n",
       "       1.55355355e+01, 1.55555556e+01, 1.55755756e+01, 1.55955956e+01,\n",
       "       1.56156156e+01, 1.56356356e+01, 1.56556557e+01, 1.56756757e+01,\n",
       "       1.56956957e+01, 1.57157157e+01, 1.57357357e+01, 1.57557558e+01,\n",
       "       1.57757758e+01, 1.57957958e+01, 1.58158158e+01, 1.58358358e+01,\n",
       "       1.58558559e+01, 1.58758759e+01, 1.58958959e+01, 1.59159159e+01,\n",
       "       1.59359359e+01, 1.59559560e+01, 1.59759760e+01, 1.59959960e+01,\n",
       "       1.60160160e+01, 1.60360360e+01, 1.60560561e+01, 1.60760761e+01,\n",
       "       1.60960961e+01, 1.61161161e+01, 1.61361361e+01, 1.61561562e+01,\n",
       "       1.61761762e+01, 1.61961962e+01, 1.62162162e+01, 1.62362362e+01,\n",
       "       1.62562563e+01, 1.62762763e+01, 1.62962963e+01, 1.63163163e+01,\n",
       "       1.63363363e+01, 1.63563564e+01, 1.63763764e+01, 1.63963964e+01,\n",
       "       1.64164164e+01, 1.64364364e+01, 1.64564565e+01, 1.64764765e+01,\n",
       "       1.64964965e+01, 1.65165165e+01, 1.65365365e+01, 1.65565566e+01,\n",
       "       1.65765766e+01, 1.65965966e+01, 1.66166166e+01, 1.66366366e+01,\n",
       "       1.66566567e+01, 1.66766767e+01, 1.66966967e+01, 1.67167167e+01,\n",
       "       1.67367367e+01, 1.67567568e+01, 1.67767768e+01, 1.67967968e+01,\n",
       "       1.68168168e+01, 1.68368368e+01, 1.68568569e+01, 1.68768769e+01,\n",
       "       1.68968969e+01, 1.69169169e+01, 1.69369369e+01, 1.69569570e+01,\n",
       "       1.69769770e+01, 1.69969970e+01, 1.70170170e+01, 1.70370370e+01,\n",
       "       1.70570571e+01, 1.70770771e+01, 1.70970971e+01, 1.71171171e+01,\n",
       "       1.71371371e+01, 1.71571572e+01, 1.71771772e+01, 1.71971972e+01,\n",
       "       1.72172172e+01, 1.72372372e+01, 1.72572573e+01, 1.72772773e+01,\n",
       "       1.72972973e+01, 1.73173173e+01, 1.73373373e+01, 1.73573574e+01,\n",
       "       1.73773774e+01, 1.73973974e+01, 1.74174174e+01, 1.74374374e+01,\n",
       "       1.74574575e+01, 1.74774775e+01, 1.74974975e+01, 1.75175175e+01,\n",
       "       1.75375375e+01, 1.75575576e+01, 1.75775776e+01, 1.75975976e+01,\n",
       "       1.76176176e+01, 1.76376376e+01, 1.76576577e+01, 1.76776777e+01,\n",
       "       1.76976977e+01, 1.77177177e+01, 1.77377377e+01, 1.77577578e+01,\n",
       "       1.77777778e+01, 1.77977978e+01, 1.78178178e+01, 1.78378378e+01,\n",
       "       1.78578579e+01, 1.78778779e+01, 1.78978979e+01, 1.79179179e+01,\n",
       "       1.79379379e+01, 1.79579580e+01, 1.79779780e+01, 1.79979980e+01,\n",
       "       1.80180180e+01, 1.80380380e+01, 1.80580581e+01, 1.80780781e+01,\n",
       "       1.80980981e+01, 1.81181181e+01, 1.81381381e+01, 1.81581582e+01,\n",
       "       1.81781782e+01, 1.81981982e+01, 1.82182182e+01, 1.82382382e+01,\n",
       "       1.82582583e+01, 1.82782783e+01, 1.82982983e+01, 1.83183183e+01,\n",
       "       1.83383383e+01, 1.83583584e+01, 1.83783784e+01, 1.83983984e+01,\n",
       "       1.84184184e+01, 1.84384384e+01, 1.84584585e+01, 1.84784785e+01,\n",
       "       1.84984985e+01, 1.85185185e+01, 1.85385385e+01, 1.85585586e+01,\n",
       "       1.85785786e+01, 1.85985986e+01, 1.86186186e+01, 1.86386386e+01,\n",
       "       1.86586587e+01, 1.86786787e+01, 1.86986987e+01, 1.87187187e+01,\n",
       "       1.87387387e+01, 1.87587588e+01, 1.87787788e+01, 1.87987988e+01,\n",
       "       1.88188188e+01, 1.88388388e+01, 1.88588589e+01, 1.88788789e+01,\n",
       "       1.88988989e+01, 1.89189189e+01, 1.89389389e+01, 1.89589590e+01,\n",
       "       1.89789790e+01, 1.89989990e+01, 1.90190190e+01, 1.90390390e+01,\n",
       "       1.90590591e+01, 1.90790791e+01, 1.90990991e+01, 1.91191191e+01,\n",
       "       1.91391391e+01, 1.91591592e+01, 1.91791792e+01, 1.91991992e+01,\n",
       "       1.92192192e+01, 1.92392392e+01, 1.92592593e+01, 1.92792793e+01,\n",
       "       1.92992993e+01, 1.93193193e+01, 1.93393393e+01, 1.93593594e+01,\n",
       "       1.93793794e+01, 1.93993994e+01, 1.94194194e+01, 1.94394394e+01,\n",
       "       1.94594595e+01, 1.94794795e+01, 1.94994995e+01, 1.95195195e+01,\n",
       "       1.95395395e+01, 1.95595596e+01, 1.95795796e+01, 1.95995996e+01,\n",
       "       1.96196196e+01, 1.96396396e+01, 1.96596597e+01, 1.96796797e+01,\n",
       "       1.96996997e+01, 1.97197197e+01, 1.97397397e+01, 1.97597598e+01,\n",
       "       1.97797798e+01, 1.97997998e+01, 1.98198198e+01, 1.98398398e+01,\n",
       "       1.98598599e+01, 1.98798799e+01, 1.98998999e+01, 1.99199199e+01,\n",
       "       1.99399399e+01, 1.99599600e+01, 1.99799800e+01, 1.99899900e+01])"
      ]
     },
     "execution_count": 44,
     "metadata": {},
     "output_type": "execute_result"
    }
   ],
   "source": [
    "# Gradient Descent calculation example\n",
    "x = np.linspace(0, 10, 1000)\n",
    "dx = x[1]-x[0]\n",
    "y = x**2 +1\n",
    "dydx = np.gradient(y, dx)\n",
    "dydx"
   ]
  },
  {
   "cell_type": "code",
   "execution_count": 45,
   "id": "5d241077",
   "metadata": {},
   "outputs": [
    {
     "data": {
      "text/plain": [
       "np.float64(0.003)"
      ]
     },
     "execution_count": 45,
     "metadata": {},
     "output_type": "execute_result"
    }
   ],
   "source": [
    "(0.0003/len(dydx))*np.sum(dydx)"
   ]
  },
  {
   "cell_type": "code",
   "execution_count": 46,
   "id": "5dda87be",
   "metadata": {},
   "outputs": [
    {
     "data": {
      "text/plain": [
       "79.87"
      ]
     },
     "execution_count": 46,
     "metadata": {},
     "output_type": "execute_result"
    }
   ],
   "source": [
    "#RidgeClassifier\n",
    "from sklearn.linear_model import RidgeClassifier\n",
    "ridge = RidgeClassifier()\n",
    "ridge.fit(X_train, y_train)\n",
    "Y_pred = ridge.predict(X_test)\n",
    "acc_ridge = round(ridge.score(X_train, y_train)*100, 2)\n",
    "acc_ridge\n"
   ]
  },
  {
   "cell_type": "markdown",
   "id": "70b69f28",
   "metadata": {},
   "source": [
    "# Multi-class classifiction"
   ]
  },
  {
   "cell_type": "code",
   "execution_count": 47,
   "id": "4e6b0d12",
   "metadata": {},
   "outputs": [
    {
     "data": {
      "text/plain": [
       "array([3, 3, 3, 3, 3, 3, 3, 3, 1, 1, 3, 3, 1, 3, 3, 3, 1, 3, 3, 3, 3, 1,\n",
       "       3, 3, 3, 3, 3, 3, 3, 3, 1, 3, 3, 3, 3, 3, 3, 1, 3, 3, 3, 3, 3, 3,\n",
       "       1, 1, 3, 3, 3, 1, 3, 3, 3, 3, 3, 3, 3, 3, 3, 3, 3, 3, 1, 3, 3, 3,\n",
       "       1, 3, 1, 3, 3, 3, 3, 3, 1, 1, 3, 3, 3, 3, 3, 1, 3, 3, 3, 3, 3, 3,\n",
       "       3, 3, 1, 3, 3, 3, 3, 3, 3, 3, 3, 3, 3, 3, 3, 3, 1, 3, 3, 3, 3, 3,\n",
       "       3, 3, 3, 1, 3, 3, 1, 3, 1, 3, 3, 1, 1, 3, 3, 1, 3, 1, 3, 1, 1, 3,\n",
       "       3, 3])"
      ]
     },
     "execution_count": 47,
     "metadata": {},
     "output_type": "execute_result"
    }
   ],
   "source": [
    "# Стратегія \"один проти всіх\"\n",
    "from sklearn.multiclass import OneVsRestClassifier\n",
    "# create features\n",
    "X_train = df_train[[\"Age\", \"Survived\"]]\n",
    "y_train = df_train[\"Pclass\"]\n",
    "X_test = df_test[[\"Age\", \"Survived\"]]\n",
    "y_test = df_test[\"Pclass\"]\n",
    "\n",
    "clf = OneVsRestClassifier(LogisticRegression(random_state=0)).fit(X_train, y_train)\n",
    "preds_3 = clf.predict(X_test)\n",
    "preds_3"
   ]
  },
  {
   "cell_type": "code",
   "execution_count": 48,
   "id": "1421293d",
   "metadata": {},
   "outputs": [
    {
     "data": {
      "text/plain": [
       "array([3, 1, 3, 2, 1, 3, 2, 3, 1, 1, 2, 3, 3, 3, 3, 3, 1, 3, 2, 3, 3, 1,\n",
       "       3, 1, 3, 1, 2, 2, 1, 2, 1, 3, 3, 1, 3, 1, 3, 1, 3, 3, 2, 3, 2, 3,\n",
       "       1, 1, 2, 3, 2, 1, 2, 3, 3, 2, 2, 2, 3, 3, 3, 2, 3, 3, 1, 3, 2, 2,\n",
       "       3, 3, 1, 1, 2, 1, 3, 3, 3, 2, 3, 3, 3, 1, 3, 1, 2, 3, 2, 3, 3, 2,\n",
       "       3, 3, 3, 3, 3, 3, 3, 3, 3, 2, 3, 3, 3, 1, 3, 3, 2, 3, 3, 1, 3, 3,\n",
       "       3, 1, 3, 1, 3, 3, 2, 2, 3, 3, 2, 1, 3, 3, 1, 1, 1, 1, 3, 1, 2, 2,\n",
       "       2, 3])"
      ]
     },
     "execution_count": 48,
     "metadata": {},
     "output_type": "execute_result"
    }
   ],
   "source": [
    "y_test.to_numpy()"
   ]
  },
  {
   "cell_type": "code",
   "execution_count": 49,
   "id": "957245d3",
   "metadata": {},
   "outputs": [
    {
     "data": {
      "text/plain": [
       "('Train', 0.6556291390728477, 'Test', 0.6119402985074627)"
      ]
     },
     "execution_count": 49,
     "metadata": {},
     "output_type": "execute_result"
    }
   ],
   "source": [
    "\"Train\", clf.score(X_train, y_train), \"Test\", clf.score(X_test, y_test)"
   ]
  },
  {
   "cell_type": "code",
   "execution_count": 50,
   "id": "cf68338b",
   "metadata": {},
   "outputs": [
    {
     "data": {
      "text/plain": [
       "array([3, 3, 3, 3, 3, 3, 3, 3, 1, 1, 3, 3, 1, 3, 3, 3, 1, 3, 3, 3, 3, 1,\n",
       "       3, 3, 3, 3, 3, 3, 3, 3, 1, 3, 3, 3, 3, 3, 3, 1, 3, 3, 3, 3, 3, 3,\n",
       "       1, 1, 3, 3, 3, 1, 3, 3, 3, 3, 3, 3, 3, 3, 3, 3, 3, 3, 1, 3, 3, 3,\n",
       "       1, 3, 1, 3, 3, 3, 3, 3, 1, 1, 3, 3, 3, 3, 3, 1, 3, 3, 3, 3, 3, 3,\n",
       "       3, 3, 1, 3, 3, 3, 3, 3, 3, 3, 3, 3, 3, 3, 3, 3, 1, 3, 3, 3, 3, 3,\n",
       "       3, 3, 3, 1, 3, 3, 1, 3, 1, 3, 3, 1, 1, 3, 3, 1, 3, 1, 3, 1, 1, 3,\n",
       "       3, 3])"
      ]
     },
     "execution_count": 50,
     "metadata": {},
     "output_type": "execute_result"
    }
   ],
   "source": [
    "# Стратегія один проти одного\n",
    "\n",
    "from sklearn.multiclass import OneVsOneClassifier\n",
    "from sklearn.svm import LinearSVC\n",
    "\n",
    "clf = OneVsOneClassifier(\n",
    "    LogisticRegression(random_state=0)).fit(X_train, y_train)\n",
    "\n",
    "preds_3 = clf.predict(X_test)\n",
    "preds_3"
   ]
  },
  {
   "cell_type": "code",
   "execution_count": 51,
   "id": "7fd45769",
   "metadata": {},
   "outputs": [
    {
     "data": {
      "text/plain": [
       "('Train', 0.6569536423841059, 'Test', 0.6119402985074627)"
      ]
     },
     "execution_count": 51,
     "metadata": {},
     "output_type": "execute_result"
    }
   ],
   "source": [
    "\"Train\", clf.score(X_train, y_train), \"Test\", clf.score(X_test, y_test)"
   ]
  }
 ],
 "metadata": {
  "kernelspec": {
   "display_name": "ds_env",
   "language": "python",
   "name": "python3"
  },
  "language_info": {
   "codemirror_mode": {
    "name": "ipython",
    "version": 3
   },
   "file_extension": ".py",
   "mimetype": "text/x-python",
   "name": "python",
   "nbconvert_exporter": "python",
   "pygments_lexer": "ipython3",
   "version": "3.12.3"
  }
 },
 "nbformat": 4,
 "nbformat_minor": 5
}
